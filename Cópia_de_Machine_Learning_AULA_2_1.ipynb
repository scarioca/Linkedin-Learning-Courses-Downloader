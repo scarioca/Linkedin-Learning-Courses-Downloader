{
  "nbformat": 4,
  "nbformat_minor": 0,
  "metadata": {
    "colab": {
      "provenance": [],
      "collapsed_sections": [],
      "include_colab_link": true
    },
    "kernelspec": {
      "name": "python3",
      "display_name": "Python 3"
    },
    "language_info": {
      "name": "python"
    }
  },
  "cells": [
    {
      "cell_type": "markdown",
      "metadata": {
        "id": "view-in-github",
        "colab_type": "text"
      },
      "source": [
        "<a href=\"https://colab.research.google.com/github/scarioca/Linkedin-Learning-Courses-Downloader/blob/main/C%C3%B3pia_de_Machine_Learning_AULA_2_1.ipynb\" target=\"_parent\"><img src=\"https://colab.research.google.com/assets/colab-badge.svg\" alt=\"Open In Colab\"/></a>"
      ]
    },
    {
      "cell_type": "markdown",
      "source": [
        "###**Combinação de Classificadores - Ensemble**"
      ],
      "metadata": {
        "id": "WTDU1pl9Jm66"
      }
    },
    {
      "cell_type": "markdown",
      "source": [
        "**Ensemble VotingClassifier** - `Considera a predição que receber a maior quantidade de votos como a escolhida`"
      ],
      "metadata": {
        "id": "yXX_MfF_NSB4"
      }
    },
    {
      "cell_type": "code",
      "execution_count": null,
      "metadata": {
        "id": "22zGy2D9JgRQ"
      },
      "outputs": [],
      "source": [
        "import pandas as pd\n",
        "from sklearn.model_selection import train_test_split\n",
        "\n",
        "#Ensemble\n",
        "from sklearn.ensemble import VotingClassifier\n",
        "\n",
        "#Classificadores\n",
        "from sklearn.neighbors import KNeighborsClassifier\n",
        "from sklearn.naive_bayes import GaussianNB\n",
        "from sklearn.tree import DecisionTreeClassifier "
      ]
    },
    {
      "cell_type": "markdown",
      "source": [
        "Conjunto de Dados - [Mobile Price](https://drive.google.com/file/d/1uCps0JVzGhwuxU6JPLEJmLvlcVNH2ykW/view?usp=sharing)"
      ],
      "metadata": {
        "id": "nsw6GsHwvimN"
      }
    },
    {
      "cell_type": "code",
      "source": [
        "# dataset - divisão em conjunto de treino e teste \n",
        "URL = '/content/Mobile Price Classification.csv'\n",
        "df = pd.read_csv(URL)"
      ],
      "metadata": {
        "id": "f7ebQwYAi7mC"
      },
      "execution_count": null,
      "outputs": []
    },
    {
      "cell_type": "code",
      "source": [
        "df.info()"
      ],
      "metadata": {
        "colab": {
          "base_uri": "https://localhost:8080/"
        },
        "id": "P7FEq_loi_YN",
        "outputId": "ad3e9015-02b0-4bf1-a53d-62927af0db2b"
      },
      "execution_count": null,
      "outputs": [
        {
          "output_type": "stream",
          "name": "stdout",
          "text": [
            "<class 'pandas.core.frame.DataFrame'>\n",
            "RangeIndex: 2000 entries, 0 to 1999\n",
            "Data columns (total 21 columns):\n",
            " #   Column         Non-Null Count  Dtype  \n",
            "---  ------         --------------  -----  \n",
            " 0   battery_power  2000 non-null   int64  \n",
            " 1   blue           2000 non-null   int64  \n",
            " 2   clock_speed    2000 non-null   float64\n",
            " 3   dual_sim       2000 non-null   int64  \n",
            " 4   fc             2000 non-null   int64  \n",
            " 5   four_g         2000 non-null   int64  \n",
            " 6   int_memory     2000 non-null   int64  \n",
            " 7   m_dep          2000 non-null   float64\n",
            " 8   mobile_wt      2000 non-null   int64  \n",
            " 9   n_cores        2000 non-null   int64  \n",
            " 10  pc             2000 non-null   int64  \n",
            " 11  px_height      2000 non-null   int64  \n",
            " 12  px_width       2000 non-null   int64  \n",
            " 13  ram            2000 non-null   int64  \n",
            " 14  sc_h           2000 non-null   int64  \n",
            " 15  sc_w           2000 non-null   int64  \n",
            " 16  talk_time      2000 non-null   int64  \n",
            " 17  three_g        2000 non-null   int64  \n",
            " 18  touch_screen   2000 non-null   int64  \n",
            " 19  wifi           2000 non-null   int64  \n",
            " 20  price_range    2000 non-null   int64  \n",
            "dtypes: float64(2), int64(19)\n",
            "memory usage: 328.2 KB\n"
          ]
        }
      ]
    },
    {
      "cell_type": "code",
      "source": [
        "X = df.drop('price_range', axis=1)\n",
        "y = df.price_range #target\n",
        "\n",
        "X_train, X_test, y_train, y_test = train_test_split(X, y, random_state=0)\n"
      ],
      "metadata": {
        "id": "3AVppssYJ0dI"
      },
      "execution_count": null,
      "outputs": []
    },
    {
      "cell_type": "code",
      "source": [
        "model1 = GaussianNB()\n",
        "model2 = DecisionTreeClassifier(max_depth = 10)\n",
        "model3 = KNeighborsClassifier(n_neighbors = 5, p=2)\n",
        "model4 = KNeighborsClassifier(n_neighbors = 13, p=2)\n",
        "\n",
        "model = VotingClassifier(estimators=[\n",
        "                                     ('nb', model1), \n",
        "                                     ('dt', model2),\n",
        "                                     ('knn', model3),\n",
        "                                     ('knn13', model4)]) "
      ],
      "metadata": {
        "id": "3Ei2EabFJ2tX"
      },
      "execution_count": null,
      "outputs": []
    },
    {
      "cell_type": "code",
      "source": [
        "model.fit(X_train,y_train)\n",
        "model.score(X_test, y_test)"
      ],
      "metadata": {
        "colab": {
          "base_uri": "https://localhost:8080/"
        },
        "id": "NAjuoSTiJ3ZQ",
        "outputId": "cc70b3f4-5f4a-427c-ba57-ab3dfb81c1ea"
      },
      "execution_count": null,
      "outputs": [
        {
          "output_type": "execute_result",
          "data": {
            "text/plain": [
              "0.926"
            ]
          },
          "metadata": {},
          "execution_count": 8
        }
      ]
    },
    {
      "cell_type": "markdown",
      "source": [
        "**RandomForestClassifier** - `ajusta vários classificadores de árvore de decisão em várias subamostras do conjunto de dados e usa a média para melhorar a precisão preditiva`"
      ],
      "metadata": {
        "id": "GM5OP_hfMRQz"
      }
    },
    {
      "cell_type": "code",
      "source": [
        "from sklearn.ensemble import RandomForestClassifier"
      ],
      "metadata": {
        "id": "akELz8FPMRc_"
      },
      "execution_count": null,
      "outputs": []
    },
    {
      "cell_type": "code",
      "source": [
        "# dataset - divisão em conjunto de treino e teste \n",
        "URL = '/content/Mobile Price Classification.csv'\n",
        "df = pd.read_csv(URL)\n",
        "\n",
        "X = df.drop('price_range', axis=1)\n",
        "y = df.price_range\n",
        "\n",
        "X_train, X_test, y_train, y_test = train_test_split(X, y, random_state=0)"
      ],
      "metadata": {
        "id": "RHIX0J5XMaGY"
      },
      "execution_count": null,
      "outputs": []
    },
    {
      "cell_type": "code",
      "source": [
        "# Treinando modelo\n",
        "model = RandomForestClassifier()\n",
        "model.fit(X_train, y_train) "
      ],
      "metadata": {
        "colab": {
          "base_uri": "https://localhost:8080/"
        },
        "id": "IkcBS8ISMdkR",
        "outputId": "527aaf25-9cc6-440a-b022-337270cf067a"
      },
      "execution_count": null,
      "outputs": [
        {
          "output_type": "execute_result",
          "data": {
            "text/plain": [
              "RandomForestClassifier()"
            ]
          },
          "metadata": {},
          "execution_count": 11
        }
      ]
    },
    {
      "cell_type": "code",
      "source": [
        "model.score(X_test, y_test)"
      ],
      "metadata": {
        "colab": {
          "base_uri": "https://localhost:8080/"
        },
        "id": "KLRe75nRMnMz",
        "outputId": "a1fc2bba-5e2c-4f66-b733-0e2b3265f02f"
      },
      "execution_count": null,
      "outputs": [
        {
          "output_type": "execute_result",
          "data": {
            "text/plain": [
              "0.878"
            ]
          },
          "metadata": {},
          "execution_count": 12
        }
      ]
    }
  ]
}