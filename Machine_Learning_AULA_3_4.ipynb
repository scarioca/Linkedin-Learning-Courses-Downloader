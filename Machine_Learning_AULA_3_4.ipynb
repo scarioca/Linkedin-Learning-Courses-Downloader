{
  "nbformat": 4,
  "nbformat_minor": 0,
  "metadata": {
    "colab": {
      "provenance": [],
      "include_colab_link": true
    },
    "kernelspec": {
      "name": "python3",
      "display_name": "Python 3"
    },
    "language_info": {
      "name": "python"
    }
  },
  "cells": [
    {
      "cell_type": "markdown",
      "metadata": {
        "id": "view-in-github",
        "colab_type": "text"
      },
      "source": [
        "<a href=\"https://colab.research.google.com/github/scarioca/Linkedin-Learning-Courses-Downloader/blob/main/Machine_Learning_AULA_3_4.ipynb\" target=\"_parent\"><img src=\"https://colab.research.google.com/assets/colab-badge.svg\" alt=\"Open In Colab\"/></a>"
      ]
    },
    {
      "cell_type": "markdown",
      "source": [
        "###Avaliação de Desempenho"
      ],
      "metadata": {
        "id": "X0HT4wwDiFZl"
      }
    },
    {
      "cell_type": "code",
      "source": [
        "import pandas as pd\n",
        "import numpy as np\n",
        "import matplotlib.pyplot as plt\n",
        "\n",
        "from sklearn.model_selection import train_test_split\n",
        "from sklearn.linear_model import LinearRegression"
      ],
      "metadata": {
        "id": "_ntnQebpiMyJ"
      },
      "execution_count": null,
      "outputs": []
    },
    {
      "cell_type": "markdown",
      "source": [
        "Dataset [FuelConsumptionCo2](https://drive.google.com/file/d/1W9N-WGuk--GE8WTwO5bUVf0NrAYpktjD/view?usp=sharing)"
      ],
      "metadata": {
        "id": "BkYkUPq6iTLb"
      }
    },
    {
      "cell_type": "code",
      "source": [
        "df = pd.read_csv('/content/FuelConsumptionCo2.csv')"
      ],
      "metadata": {
        "id": "zN5ovVF9iP9A"
      },
      "execution_count": null,
      "outputs": []
    },
    {
      "cell_type": "code",
      "source": [
        "df.describe()"
      ],
      "metadata": {
        "id": "9hniIww-icIz",
        "colab": {
          "base_uri": "https://localhost:8080/",
          "height": 364
        },
        "outputId": "98d76ec9-fe43-404b-e521-1846398ad6f3"
      },
      "execution_count": null,
      "outputs": [
        {
          "output_type": "execute_result",
          "data": {
            "text/plain": [
              "       MODELYEAR   ENGINESIZE    CYLINDERS  FUELCONSUMPTION_CITY  \\\n",
              "count     1067.0  1067.000000  1067.000000           1067.000000   \n",
              "mean      2014.0     3.346298     5.794752             13.296532   \n",
              "std          0.0     1.415895     1.797447              4.101253   \n",
              "min       2014.0     1.000000     3.000000              4.600000   \n",
              "25%       2014.0     2.000000     4.000000             10.250000   \n",
              "50%       2014.0     3.400000     6.000000             12.600000   \n",
              "75%       2014.0     4.300000     8.000000             15.550000   \n",
              "max       2014.0     8.400000    12.000000             30.200000   \n",
              "\n",
              "       FUELCONSUMPTION_HWY  FUELCONSUMPTION_COMB  FUELCONSUMPTION_COMB_MPG  \\\n",
              "count          1067.000000           1067.000000               1067.000000   \n",
              "mean              9.474602             11.580881                 26.441425   \n",
              "std               2.794510              3.485595                  7.468702   \n",
              "min               4.900000              4.700000                 11.000000   \n",
              "25%               7.500000              9.000000                 21.000000   \n",
              "50%               8.800000             10.900000                 26.000000   \n",
              "75%              10.850000             13.350000                 31.000000   \n",
              "max              20.500000             25.800000                 60.000000   \n",
              "\n",
              "       CO2EMISSIONS  \n",
              "count   1067.000000  \n",
              "mean     256.228679  \n",
              "std       63.372304  \n",
              "min      108.000000  \n",
              "25%      207.000000  \n",
              "50%      251.000000  \n",
              "75%      294.000000  \n",
              "max      488.000000  "
            ],
            "text/html": [
              "\n",
              "  <div id=\"df-16d974de-71e3-4da9-9b4b-99533c30195b\">\n",
              "    <div class=\"colab-df-container\">\n",
              "      <div>\n",
              "<style scoped>\n",
              "    .dataframe tbody tr th:only-of-type {\n",
              "        vertical-align: middle;\n",
              "    }\n",
              "\n",
              "    .dataframe tbody tr th {\n",
              "        vertical-align: top;\n",
              "    }\n",
              "\n",
              "    .dataframe thead th {\n",
              "        text-align: right;\n",
              "    }\n",
              "</style>\n",
              "<table border=\"1\" class=\"dataframe\">\n",
              "  <thead>\n",
              "    <tr style=\"text-align: right;\">\n",
              "      <th></th>\n",
              "      <th>MODELYEAR</th>\n",
              "      <th>ENGINESIZE</th>\n",
              "      <th>CYLINDERS</th>\n",
              "      <th>FUELCONSUMPTION_CITY</th>\n",
              "      <th>FUELCONSUMPTION_HWY</th>\n",
              "      <th>FUELCONSUMPTION_COMB</th>\n",
              "      <th>FUELCONSUMPTION_COMB_MPG</th>\n",
              "      <th>CO2EMISSIONS</th>\n",
              "    </tr>\n",
              "  </thead>\n",
              "  <tbody>\n",
              "    <tr>\n",
              "      <th>count</th>\n",
              "      <td>1067.0</td>\n",
              "      <td>1067.000000</td>\n",
              "      <td>1067.000000</td>\n",
              "      <td>1067.000000</td>\n",
              "      <td>1067.000000</td>\n",
              "      <td>1067.000000</td>\n",
              "      <td>1067.000000</td>\n",
              "      <td>1067.000000</td>\n",
              "    </tr>\n",
              "    <tr>\n",
              "      <th>mean</th>\n",
              "      <td>2014.0</td>\n",
              "      <td>3.346298</td>\n",
              "      <td>5.794752</td>\n",
              "      <td>13.296532</td>\n",
              "      <td>9.474602</td>\n",
              "      <td>11.580881</td>\n",
              "      <td>26.441425</td>\n",
              "      <td>256.228679</td>\n",
              "    </tr>\n",
              "    <tr>\n",
              "      <th>std</th>\n",
              "      <td>0.0</td>\n",
              "      <td>1.415895</td>\n",
              "      <td>1.797447</td>\n",
              "      <td>4.101253</td>\n",
              "      <td>2.794510</td>\n",
              "      <td>3.485595</td>\n",
              "      <td>7.468702</td>\n",
              "      <td>63.372304</td>\n",
              "    </tr>\n",
              "    <tr>\n",
              "      <th>min</th>\n",
              "      <td>2014.0</td>\n",
              "      <td>1.000000</td>\n",
              "      <td>3.000000</td>\n",
              "      <td>4.600000</td>\n",
              "      <td>4.900000</td>\n",
              "      <td>4.700000</td>\n",
              "      <td>11.000000</td>\n",
              "      <td>108.000000</td>\n",
              "    </tr>\n",
              "    <tr>\n",
              "      <th>25%</th>\n",
              "      <td>2014.0</td>\n",
              "      <td>2.000000</td>\n",
              "      <td>4.000000</td>\n",
              "      <td>10.250000</td>\n",
              "      <td>7.500000</td>\n",
              "      <td>9.000000</td>\n",
              "      <td>21.000000</td>\n",
              "      <td>207.000000</td>\n",
              "    </tr>\n",
              "    <tr>\n",
              "      <th>50%</th>\n",
              "      <td>2014.0</td>\n",
              "      <td>3.400000</td>\n",
              "      <td>6.000000</td>\n",
              "      <td>12.600000</td>\n",
              "      <td>8.800000</td>\n",
              "      <td>10.900000</td>\n",
              "      <td>26.000000</td>\n",
              "      <td>251.000000</td>\n",
              "    </tr>\n",
              "    <tr>\n",
              "      <th>75%</th>\n",
              "      <td>2014.0</td>\n",
              "      <td>4.300000</td>\n",
              "      <td>8.000000</td>\n",
              "      <td>15.550000</td>\n",
              "      <td>10.850000</td>\n",
              "      <td>13.350000</td>\n",
              "      <td>31.000000</td>\n",
              "      <td>294.000000</td>\n",
              "    </tr>\n",
              "    <tr>\n",
              "      <th>max</th>\n",
              "      <td>2014.0</td>\n",
              "      <td>8.400000</td>\n",
              "      <td>12.000000</td>\n",
              "      <td>30.200000</td>\n",
              "      <td>20.500000</td>\n",
              "      <td>25.800000</td>\n",
              "      <td>60.000000</td>\n",
              "      <td>488.000000</td>\n",
              "    </tr>\n",
              "  </tbody>\n",
              "</table>\n",
              "</div>\n",
              "      <button class=\"colab-df-convert\" onclick=\"convertToInteractive('df-16d974de-71e3-4da9-9b4b-99533c30195b')\"\n",
              "              title=\"Convert this dataframe to an interactive table.\"\n",
              "              style=\"display:none;\">\n",
              "        \n",
              "  <svg xmlns=\"http://www.w3.org/2000/svg\" height=\"24px\"viewBox=\"0 0 24 24\"\n",
              "       width=\"24px\">\n",
              "    <path d=\"M0 0h24v24H0V0z\" fill=\"none\"/>\n",
              "    <path d=\"M18.56 5.44l.94 2.06.94-2.06 2.06-.94-2.06-.94-.94-2.06-.94 2.06-2.06.94zm-11 1L8.5 8.5l.94-2.06 2.06-.94-2.06-.94L8.5 2.5l-.94 2.06-2.06.94zm10 10l.94 2.06.94-2.06 2.06-.94-2.06-.94-.94-2.06-.94 2.06-2.06.94z\"/><path d=\"M17.41 7.96l-1.37-1.37c-.4-.4-.92-.59-1.43-.59-.52 0-1.04.2-1.43.59L10.3 9.45l-7.72 7.72c-.78.78-.78 2.05 0 2.83L4 21.41c.39.39.9.59 1.41.59.51 0 1.02-.2 1.41-.59l7.78-7.78 2.81-2.81c.8-.78.8-2.07 0-2.86zM5.41 20L4 18.59l7.72-7.72 1.47 1.35L5.41 20z\"/>\n",
              "  </svg>\n",
              "      </button>\n",
              "      \n",
              "  <style>\n",
              "    .colab-df-container {\n",
              "      display:flex;\n",
              "      flex-wrap:wrap;\n",
              "      gap: 12px;\n",
              "    }\n",
              "\n",
              "    .colab-df-convert {\n",
              "      background-color: #E8F0FE;\n",
              "      border: none;\n",
              "      border-radius: 50%;\n",
              "      cursor: pointer;\n",
              "      display: none;\n",
              "      fill: #1967D2;\n",
              "      height: 32px;\n",
              "      padding: 0 0 0 0;\n",
              "      width: 32px;\n",
              "    }\n",
              "\n",
              "    .colab-df-convert:hover {\n",
              "      background-color: #E2EBFA;\n",
              "      box-shadow: 0px 1px 2px rgba(60, 64, 67, 0.3), 0px 1px 3px 1px rgba(60, 64, 67, 0.15);\n",
              "      fill: #174EA6;\n",
              "    }\n",
              "\n",
              "    [theme=dark] .colab-df-convert {\n",
              "      background-color: #3B4455;\n",
              "      fill: #D2E3FC;\n",
              "    }\n",
              "\n",
              "    [theme=dark] .colab-df-convert:hover {\n",
              "      background-color: #434B5C;\n",
              "      box-shadow: 0px 1px 3px 1px rgba(0, 0, 0, 0.15);\n",
              "      filter: drop-shadow(0px 1px 2px rgba(0, 0, 0, 0.3));\n",
              "      fill: #FFFFFF;\n",
              "    }\n",
              "  </style>\n",
              "\n",
              "      <script>\n",
              "        const buttonEl =\n",
              "          document.querySelector('#df-16d974de-71e3-4da9-9b4b-99533c30195b button.colab-df-convert');\n",
              "        buttonEl.style.display =\n",
              "          google.colab.kernel.accessAllowed ? 'block' : 'none';\n",
              "\n",
              "        async function convertToInteractive(key) {\n",
              "          const element = document.querySelector('#df-16d974de-71e3-4da9-9b4b-99533c30195b');\n",
              "          const dataTable =\n",
              "            await google.colab.kernel.invokeFunction('convertToInteractive',\n",
              "                                                     [key], {});\n",
              "          if (!dataTable) return;\n",
              "\n",
              "          const docLinkHtml = 'Like what you see? Visit the ' +\n",
              "            '<a target=\"_blank\" href=https://colab.research.google.com/notebooks/data_table.ipynb>data table notebook</a>'\n",
              "            + ' to learn more about interactive tables.';\n",
              "          element.innerHTML = '';\n",
              "          dataTable['output_type'] = 'display_data';\n",
              "          await google.colab.output.renderOutput(dataTable, element);\n",
              "          const docLink = document.createElement('div');\n",
              "          docLink.innerHTML = docLinkHtml;\n",
              "          element.appendChild(docLink);\n",
              "        }\n",
              "      </script>\n",
              "    </div>\n",
              "  </div>\n",
              "  "
            ]
          },
          "metadata": {},
          "execution_count": 4
        }
      ]
    },
    {
      "cell_type": "code",
      "source": [
        "# Seleção das features\n",
        "\n",
        "X =  df[['ENGINESIZE']] #motor\n",
        "y = df[['CO2EMISSIONS']] #emissão CO2"
      ],
      "metadata": {
        "id": "H4gzaLCEie52"
      },
      "execution_count": null,
      "outputs": []
    },
    {
      "cell_type": "code",
      "source": [
        "X_train, X_test, y_train, y_test = train_test_split(X, y, test_size=0.20)"
      ],
      "metadata": {
        "id": "E8RUYWr-ihST"
      },
      "execution_count": null,
      "outputs": []
    },
    {
      "cell_type": "code",
      "source": [
        "linreg = LinearRegression() #Regressão Linear\n",
        "\n",
        "linreg.fit(X_train, y_train)"
      ],
      "metadata": {
        "colab": {
          "base_uri": "https://localhost:8080/"
        },
        "id": "8M26QN6-ikZf",
        "outputId": "196e08de-b29a-4f82-919d-21a481795842"
      },
      "execution_count": null,
      "outputs": [
        {
          "output_type": "execute_result",
          "data": {
            "text/plain": [
              "LinearRegression()"
            ]
          },
          "metadata": {},
          "execution_count": 8
        }
      ]
    },
    {
      "cell_type": "markdown",
      "source": [
        "###Métricas Regressão Linear"
      ],
      "metadata": {
        "id": "tiAIWqwzjI2v"
      }
    },
    {
      "cell_type": "markdown",
      "source": [
        "![image.png](data:image/png;base64,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)"
      ],
      "metadata": {
        "id": "vT1pNj3UXPcB"
      }
    },
    {
      "cell_type": "code",
      "source": [
        "linreg.score(X_test, y_test) "
      ],
      "metadata": {
        "colab": {
          "base_uri": "https://localhost:8080/"
        },
        "id": "jDn_hcwEimkH",
        "outputId": "af920dcf-5d97-41ad-be7c-0af57ad8e28b"
      },
      "execution_count": null,
      "outputs": [
        {
          "output_type": "execute_result",
          "data": {
            "text/plain": [
              "0.7954730298981696"
            ]
          },
          "metadata": {},
          "execution_count": 9
        }
      ]
    },
    {
      "cell_type": "code",
      "source": [
        "y_pred = linreg.predict(X_test) # valores predição dados de testes"
      ],
      "metadata": {
        "id": "1rWOe2RU6QfP"
      },
      "execution_count": null,
      "outputs": []
    },
    {
      "cell_type": "code",
      "source": [
        "#Métrica (Custo, Loss, J)\n",
        "\n",
        "from sklearn.metrics import mean_squared_error\n",
        "\n",
        "print(\"Erro Quadrático Médio (MSE):\", mean_squared_error(y_test, y_pred))\n"
      ],
      "metadata": {
        "colab": {
          "base_uri": "https://localhost:8080/"
        },
        "id": "rWsNdaWc6Em9",
        "outputId": "1f941de1-c465-407b-a5b6-89acc7598f22"
      },
      "execution_count": null,
      "outputs": [
        {
          "output_type": "stream",
          "name": "stdout",
          "text": [
            "Erro Quadrático Médio (MSE): 825.4467391571825\n"
          ]
        }
      ]
    },
    {
      "cell_type": "markdown",
      "source": [
        "###Validação Cruzada "
      ],
      "metadata": {
        "id": "8gVdwj6hrzVl"
      }
    },
    {
      "cell_type": "markdown",
      "source": [
        "Pode ser usada na regressão e na classificação"
      ],
      "metadata": {
        "id": "PjF8zO4Z1ac_"
      }
    },
    {
      "cell_type": "markdown",
      "source": [
        "![image.png](data:image/png;base64,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)"
      ],
      "metadata": {
        "id": "qtX3mTGcWCBw"
      }
    },
    {
      "cell_type": "code",
      "source": [
        "#Ajustando o modelo com divisões diferentes a cada vez \n",
        "\n",
        "from sklearn.model_selection import cross_val_score # Cross Validation Function.\n",
        "from sklearn.model_selection import KFold # KFold Class.\n",
        "\n",
        "from sklearn.linear_model import LinearRegression # Linear Regression class.\n"
      ],
      "metadata": {
        "id": "8yGGLOrpGar-"
      },
      "execution_count": null,
      "outputs": []
    },
    {
      "cell_type": "code",
      "source": [
        "linreg2  = LinearRegression()\n",
        "\n",
        "kfold  = KFold(n_splits=7, shuffle = True) # shuffle=True Embaralhar\n",
        "\n",
        "result = cross_val_score(linreg2, X, y, cv = kfold)\n",
        "\n",
        "result\n"
      ],
      "metadata": {
        "colab": {
          "base_uri": "https://localhost:8080/"
        },
        "id": "_jiAux9TGmET",
        "outputId": "10ff9d0b-c8eb-402b-b244-8803bf62ad24"
      },
      "execution_count": null,
      "outputs": [
        {
          "output_type": "execute_result",
          "data": {
            "text/plain": [
              "array([0.74099655, 0.7153984 , 0.79435195, 0.78419354, 0.76872905,\n",
              "       0.79463051, 0.7251368 ])"
            ]
          },
          "metadata": {},
          "execution_count": 15
        }
      ]
    },
    {
      "cell_type": "code",
      "source": [
        "from sklearn.model_selection import cross_val_predict\n",
        "\n",
        "linreg2  = LinearRegression()\n",
        "\n",
        "kfold  = KFold(n_splits=5, shuffle = True)\n",
        "\n",
        "y_pred = cross_val_predict(linreg2, X, y, cv = kfold) #método de predição usará o melhor desempenho da validação cruzada\n",
        "\n",
        "y_pred"
      ],
      "metadata": {
        "colab": {
          "base_uri": "https://localhost:8080/"
        },
        "id": "cfwMWfNIHY3t",
        "outputId": "af137f33-bd4a-4d92-dc10-8164a928d33e"
      },
      "execution_count": null,
      "outputs": [
        {
          "output_type": "execute_result",
          "data": {
            "text/plain": [
              "array([[203.2649539 ],\n",
              "       [219.0358614 ],\n",
              "       [183.68197505],\n",
              "       ...,\n",
              "       [242.28289836],\n",
              "       [250.80422614],\n",
              "       [250.26410312]])"
            ]
          },
          "metadata": {},
          "execution_count": 16
        }
      ]
    }
  ]
}