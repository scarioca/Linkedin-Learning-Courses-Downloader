{
  "nbformat": 4,
  "nbformat_minor": 0,
  "metadata": {
    "colab": {
      "provenance": [],
      "include_colab_link": true
    },
    "kernelspec": {
      "name": "python3",
      "display_name": "Python 3"
    },
    "language_info": {
      "name": "python"
    }
  },
  "cells": [
    {
      "cell_type": "markdown",
      "metadata": {
        "id": "view-in-github",
        "colab_type": "text"
      },
      "source": [
        "<a href=\"https://colab.research.google.com/github/scarioca/Linkedin-Learning-Courses-Downloader/blob/main/Machine_Learning_AULA_3_2.ipynb\" target=\"_parent\"><img src=\"https://colab.research.google.com/assets/colab-badge.svg\" alt=\"Open In Colab\"/></a>"
      ]
    },
    {
      "cell_type": "markdown",
      "source": [
        "###Regressão -  Estocástico Gradiente Descendente "
      ],
      "metadata": {
        "id": "rtjFr7b-AEX8"
      }
    },
    {
      "cell_type": "markdown",
      "source": [
        "![image.png](data:image/png;base64,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)"
      ],
      "metadata": {
        "id": "5d1-s4lI4RWj"
      }
    },
    {
      "cell_type": "markdown",
      "source": [
        "![image.png](data:image/png;base64,iVBORw0KGgoAAAANSUhEUgAAAPwAAABvCAYAAADIWa2KAAAgAElEQVR4nOydd5xeRdXHv3PvU7Ymm91k00nvhZBQQkINNVSRoqgoICAqVbFLLyqKCIoKCgiKiCBdSCCEkEpCeu/ZbJLdJJvdzfan3Dvn/WPmPs+zmwQSCK9Knl8+d/Pce+fOnCnnzJkzZ2aUiAhZZJHFIQHnP01AFllk8f+HLMNnkcUhhCzDZ5HFIYQsw2eRxSGE0H+agCyy+O9Epi1b/ceoONjI9vBZZNEGGo2gQbS90/9pkg4asj18FlnsAQdBMjr2bA+fRRafaSgUvunnUXx2XFVU1vEmiywMBBA0goOb8TxQ6BWZzK9oO84XxOoCKhVfoBtk/m6bJva7zJhpdX/wNIxsD5/FIQ+xF1pwcHBrhZ2/mMyUYbdQdec/cCo9w5AC+BohYb/0QGJAHIijSSJ4VmiA0jZuAeVnJKTtheCj8fERPJJokvaliEbjIeKboNp8K7SJ4wC76yzDZ3HIwweSgHIUel4NjxdPJLGonFPvvYLKJ2aw9NhvoaqSOApwXJSELKOF0CpCkjAeLi4hBIcklrcdE7enMJwWMCrYG58QHi4ChIiIQwgHDxelXFzCOCpkJIYDWoFn4xPHXAfa+WcZPotDHi4QCW46aL78zi/o8Y+r4XPDGPnErSzdvBI+2AiAKBAcYuIhKBQuDi6KEAkcNC4uDtqY/QgBYTHf4YC4GCZ1zABAiCCE8VEkFaCtJX1XkhdOuRE9eyuOUqA1jtaERHDEqA7BMMBHzL/9GJ1nGT6LQxySUot9gAEdyZlwePr1+C50HDyQ5PrdgOmgPaXIcUJmTN8MrgbXM4waAtw4hFAobeIUBSoJJDTKMr/GQeGikuA0QSgJDgpxbJf9xjq8qTNxnB6WSg2OQimFUg5KAU0aFQcXhca8+ygdPzstl8UhDY1ClOCgcDDj7sS/ljL71scpzO/EqAtG0akqRjLZRNh+ExbgrQ2seOxlottq2VlVR/9rz6T062dTedtfWPH8VAZfczY97v6CMf7tSDLpK7fS/9hR9L/ri0ZQ+FDzq6mse+JV2ncoYHflTvpeeiql372Etff8GffPi5kQOo6Vn/8pi5s38aV/3w/juwOgtsDqm35PfOla6jyPfmcdR/dffxEdBR9FiA/R9CWLLA5xaPHFNz9k8yV/kheZIPLiMpFF9bLj1AdkGhNEnl2YCu8/Okf+zjEiT68RKROZ3OUyid/8nOy649+y6cvPS/05D8qqI78nErcfTC2XFxgv8vy6VBzeQ1PlVc4WmZcUqRJZf/LtMrfHDSK7RWTKJtlY8k2pGPlrkWXNIvN3itTbyFa3yEucKdtOfUCkQkTerZcXOUnq759iaBMtcfH2mdcsw2dxyMMPfvxzlTzLGJG/rUy/fHq1/IsjRKY1mPs1jfKSOksS972fCtK8Ypv4G6pEahIicZEPTrhDNp54n6T47i9L5HnGi2zSqW82XXyfLM+7WmSLfVDtScP89eZ3hSdvFJ4j8vgCERFJSDqqLdc8LguKLhWpTJM4f+h3ZONQI2C0pOXM3pAdw2eRhRm9s+yXzzBu2Olw9mA8+ya+oYwOTnfoYqbiGv82hbA4hL94FD7QArhDu6H6dkQ6hKHOo379JkqOHkEwmb9z7iKG9x0NRZIy0ve+8Qa2N1ezdNTlMKkCil0KxvQzLxdXs7lhHRw5CMCaAoGNSdY+9iwjv3EpdLEG/2rw6xqI9OieGqCbocfe3YGzDJ/FIQ0Nxs1maxN1ZevIHdAN2llXl0aftS9P4rBjx8KgYohD+TurGT3xJOjj4OPjYhnMzrnzwXYaKippd/JQk0AVLP3ri7QbOwaKgrk5D8bnc8rSPxGJ5DNj4ldp+vW0FE2ycBUDS4+Crvn2iWXTVdXUUkdodF/AiqnKeuq2baL0c4ebWQBAScY3bZBl+CyyAGjRJPw8YsVdwbGd8/IWNi2ZR7/rzjNhGqB28xaSnbsAEMElAqi63eAYZvI2bSVCAYw0TJl46G3yG5voNvEIwFji/YoENHgwopjBGx+h46BRVP/pX9BoNI1Ff3qF4YPGQCeTrFvVYH7UlBNDoE8PBCtoZm9A4xIePwxIzwrsC1mG/xRh5kg1Ouu9/N+PboXoHIeczTvN/W5Yfs1PGTD+RDh3hHlWBAW9C4jNXAhrNJTDygsfZs7Vf0DZLj62dQulER+2Jmj48wI2/+lNwnSAnA5svvMFmLyeBbf8iS03/dXEmQOxnHbo3K6Q45p5eK+FUGMctsLiyx5hxS9fM2EH9DZMXtFsNJAVcV79xk2M+sqFMLITIIS1Rn3I4r6sL/2ngMBvOvB8DKTqf8uaK8n4Ffx2TJNN0fj/ReuH+Zh/1PN9hTkQGJXeYnIZU790O2MmjqWqoopdVXWMnfwAdLPusQqYtI45X7qNEj+Xag/yxvXl8CdvhB6FAHjPL2XlFbfR0pSk+OyJDLj/OlZe8WN2zVtFl0snMvD2q9j43QfwFi+l8ynjiNU1smreEk569n44sRsAFd96ntrH3qDer6f07An0e+rbUCKQUJR/8zF2TpnJkHOOZOXkpXQdN5Yej14FuZBECAl2Pn7v+EQMHzTowHMw9RAOXHfIlEofU+/IdC3O9GZMN+qD00g+CnEgktSoyt2gc5AcBZ1z8ZWPax0pFWlPqUyhsD/IzGOqwQbcKqBtZA57rw5PhLgIOQ64OPiAK4b5fZVe/qHYO117xJkpKfYnMxkR+G3T0ft4TqYA1SjAQ6XmzzX7SFaMS+qHCZBWHqrN0LRiA/mdu8Bh+alwWoPviHGoqUtCZTUUd4DSaCoepQUcBRW1kBDoXWw+rm6A5jj07Gju4xpqWkiWbSPcoQB6d4Yc1y7bUaAhua6McH476FHcKh8OwKYd+HUNuL27Q1EuYLztTPWrfdYbfEyG3xdPB4UqGffOxxUAB4Ee315hS1fb+08DPnb8Vxlj/dW/ovKtRQy97xpKbjmDBLbB2HBBeQXelgEyXa6D8gwaZcBbKoPJxDZoJ0MSZNaFglYtXmzjcRuBBavQ7XNwDu+DRownVwYteyvbD2V4+MjCbbuXzB60ZqSk7Ro0ZVMzfz2bpFnEqomYvLdN10pTcVq3ybYIhFsgNHz7vyceYWv6NvSJLVuVqufgW+z7hGhc5VoqzbOIpV4QlCiUat2/BavwhNYr4zLLWVu6AhozBXLQnsgIv68qOGA2DJbzadF2vbCQQIjh41miPSCOmPeOsK/JPzmAa1/faxFbWIInGo80XQ5C2NLqidnB5NNkdggajEDXHPpf9kWQekoOH9Qqx8HY3rfNue0Y366XAluGnt11RWwvrBG0o0kqwxA+QhKNpzSeMvc+QhxseYCnJF2WyliX9eJN3H7SODY99joojM+2mLLzbD60bWaZNGZ25j4a39H4ylyi9s+nO8h/UF8xu1IsaF8eGg9l957RJNL70NhJKhfV4tCybBuqpgHbMbZibE9pfMfkR4tGa92KQYO8BAJRSboONRpXKUR5Nm+BqqxQAiFpsxYGUKKIWh1O4RFBk4MYwSDmfcC4jrYMqwOGNeIryIPGaIqIEdA+ENYQldaMrgkEy/616/12rU0xulWjQkqlGmbYLiIIVuw5QNgm79sv9yTGkBg04PRo0hZOm9BOUNgIYqUkCGJ7JBfTa+nARZJgAkTjKrO+OaDXYX9XGH9UMQa9Tzqc6Y09IEzN6g3UEoFBvQBT2NrSGrWyVgh6aLEVaGIMyk9BWiuw1hjTMBSO7ZFDNgykNYz0UMtJxRTUj8LFBZJ9irjhrSmUHD4kRQtKkbS0OjYstmwzSyVdY63XjqeI3ktJZvZhIZxU3SsUEVuKQqDOK5u6aaIupHrJ4G3ync08cu4XuWXLTEhrvilGCGX0ZwmlcJWkQmRqFIGRS9k/pg6V/QeOVinJoDK63T20JwniEVxLhVZOWhsQcBUkMMOuEJC01n1XTDtwLLcrINdJxxnOkGQh0lpdpka9P3DvuOOOOz4sQOayW431011ci7d8DW7PzjiuQs3eije/Ere4HU6Bi7OtmcTbC3ETLk6Xwr2oa3a1jwrGGwo343LUnpeJQ6NEUNoxha8sc8/eSGJbPaEeRTgCMmU1atMOVNdOuGEHtbaG5LRlhHLycIpyjdBQ+2Z600GZHkvbmg0KOH1pNL5ZypjB9KaxuOBB48OvQ36Urt86AyJmFXUkYMD3y2h4ZwVRLx9VmodK6eOGRf1pG6l9dy75fgTV4lBXto3crsU4WqFmrYfNtbi9is066zlrSSzcgNu5O46G5neXE0kqnE75qGqNN2Uxqj6B073IlFcCGuaWk78tRl5pV+jTzpTnbsF/ZzlhH5xOBahqRcukFYSbWlBdiywnGY3KUYZO5/0Kqt5aQm6Dj/IKaFq7mUiXInAUWhutRKnAIGjra8Nu6uYuJqdTZ5wcF7W2DjV1GSrmo7q1x7MCz1leze5J7yMVDUTySmhatIJIj06GDctjNN/1PF3WaTodOwa/ugon6qDyQijlGFavaKT+jaW0rNtOfpeuOLnpHjaU0TEAoARRkFRYcZ2BDLUgmPJSmOG6I63DicLELI5p2aJwJBhZG7gCrpKUAHAkHaf5odI3ai+XbWnKBs20XwTCfV9t+yN7eBORxsMhlITye1+g9pHJbN+1mjMeeoSGqk2s+duLNJaVM+KUiym54Qym3/IAuetqaKCZCXOfhKNLUrpBEKtWoLbW0/zK++TnFxFHGWYVkMD93wVH+zREFcXnHoFTqEActKsNk+3y2fT9x6h/ch71NHD8Uz9j+5TZbH51FtvqFvP5m+8m2SeXOfc+S3RHLe6QLhw57SEoVW3owcggK7V9ZWh0UbTYis1ckJBmzbBZVtnGYiSAqoPFk+Zw0o+/DPlGWEZRUAnzTv8BXnWCrkOHMuOd2zjpwVvIu2miqapKYckZP6F5SzPdzjma2vt+Q8X6pQy440ba9+zL8q/eT3TSWipo4sRnH6Du5Xf44LlHEDpx2s9vZdNr0ymfNZuOg/sx7J5vsez+P9EybwsNlHPKK7+F80aiQuAs28jz136f/sedyRHv3oVeXMnqax6ifsFSSvuPoO+vbmD+/Y8iszeznY2c++JjcMEQtGM2iaAe1l30CyqmrqTXpWdS89tJ1C9eR8erTqfP2L6ZNkQEneoxd/5+ChU/eZqdu7dx8nd+hOrbnkXX/YItrGT0NbfR+9HDiGrY+ZOnmPXzZxl6/ufxa6fRNH0lzhH9GbPw57B5B4sv+TWF8+ro0nsgC378O3ZEkpzxwm24XUyTjj85l2k3P0Dv8eOoW7ACLxRn3NwnoHtoD41ElF23TqCd7stPzTYVlbbB7I2zFILKEAymTWRqFtbjLpOpW1O094jTFLShUOFZrjFwcPY1Wv8oP2MREV880SIiO5tkw6/fEFkUk6oRP5F5nCj1331NJCbiXfuyrGGiLO51ncg2Efl3lTzNWJFXt9k4/MwIRURELyqX1wedIzOGXCPTh90k04ffKDNG3CjTR9wk7w2/Sd4bfr1MG3iVzD3vDpEa33zoe6Lt9/HlW2XtA6+IvFMlVZ1ulLlMlOTTS0QaRRqO+o2s5BxZe/IjIs0iO66fJO8VnC+ysdGSkPZrNsSIJM1/aRo9+8AT49AcXF7m5YvW6bylfq2tlueYKIk/LRYtIjHRInVapne+QpaMvyMV/t/OObLrst+aD+tFlh/zI5ne5xsitTbAo8vlfS4V7187JLm6RjY+/LbI2zulpc8PZSZnSuz3S0Vm1suue96Q3X+cLok3y0QeniurOF8WFnxdZH61yKwqWcz50vKr99L53Snytnux7L7pFRER2frKbKl/YanIw4tlIxfLsujlIh/UiMypkzei50jz7z9Il1tSpOLLf5RJ4fNF1lsv73+ukPc4T5runx8Up/i+KQ1PPEmKiLQkZd1vXhV535PkRX+ThZwqOz73F5EVIpU/fUn82VtFRKT5vunyGhNE3ttp4l7cJMtCX5KWr7+Upn9DTGYVf178h2dJWyT+NF0eY5TI9O3mwV/XymSOFJm9a4+wKWI/I/BFxEv6+3y/X2N4J7C6dcyh780TYbtHWcUaup99DoU/PwdCUFNXS5WTYPxLP4FuoOfvoIAQtE8nkZZbZgsfRvXk7NWv7Q8JgXQCZTYXdIDIsO4MGNYdppYzs+oDzvvJj3EuGwk+lNVtIdK/HwNe+BbkQsJrQSsHIntKvlbSFmBHMwuv/hkt87cTjnTAFVDKqGgmHxrX82jqGmLcMz9BDSxMxSOiQTnUPj+XaMQnfJRZ0hhFsfsPbyO1DYz83e0gELtrMi16N+0nnggOeJNXsGHubM574y9QZEhp2byLWATcUYXQN5c+g04l9so6pm5ayOm33kTom8YppGT8xBT59VNXspItfP6Ze2FMMfJBBeXREMO6t0/ncdk2kvmadueYtd/dzzvWpPeDl9lMFSe9dB8c2QGZU02jGyJUZJRcBwULKvjgmb9xzsO/gn6mv0zubCQG5J3R35SF9nFUYFm3doAcl/43ngu7YPGSKZSM6k/pn7+MLoEud3/O0LW+jim3/ZLxV3wbTrCuZok4m3LiDL9wZIp87/0lbKypYdzYAbbs7ZTWtmbev/lXXHnDfXB8Z1jexOy7f03P48+FESW2/lpra0pBy7Jy5vzxKboVFuERBj+atuK1QWBjypgUaR1vGxvU3jSBAxl374nArGdVd+0TIURNQy0jv34p0WO676nBWuwHw9tsCIhjN+mbvYuK6hhH3nSBiaFFs3vZErqfcT4cYdwO619aRedeg2B4KWCUjLQW4hgGignEPMxANHMSImPiQQNhBSEHnWPGYCHtgYDnuIRQVL/2Ae3b9cT5ygQTRRmsWzufCx6+xxhzGiG2ZhUdTjwWinNtYfigjaLutJm3VmGXw04ZR/gYz4z7tUY5kjbR6SQkhOYCBQWG7kCF1VaXS6zYQEHHw6C0g4m8BWLz1uJon7Jb76e2ooamhgTnPv8IoYsM0zZPX0T7cBcY3tt8E4OKxbNoN6Y7lETwbIUl3l5OjptD6GsnAuCTIE6EHMBphJ1z5jLq5HPgDONu2TJjE44PocMHpGo1vrqScH0M1b0UjdniKdoIG+bMo9dJE+AUw7iNU1fiNCcJjx2Y+jY2bRVJIjgnpDeKqF9Vhi4OQUmOfaJS43ds2STQhHFx1mxj14Zahvzqe1ASwiOJS9iIhSU78L0khacNTsWdnLGJeGMtdC9OPfNWVFMS6gRdOgA+vrTgqAJYtY1Io9A0bwnVZyyhYvEmOp1xJAMfvAIKTEWpNtN0Gsjt3IGxF51LnoqgVeAhv3e1em9ywE5wpI14NtOpdPbPSryfCPbTSSfuagFfoLSdSW8ftO8fwysNotBWVm95ZTodO5XA8M4myEafd5ZP4dq7njf3CWhcuRg6d0xZT33AcUxUSWuTcBdt5rFxn2cUffFTtlUXsa4V5kkLO3I7cfGOP+HkBFVgegwVlOiaLeSXdoPBxgmBxUtowEdGDTfhd8ZZNPVtPvez26xHkkM4MEW28UpSAMVROt44kY9CLmlGdzBjQBcF9bBz42YGTRwLXe2IcVszmyfP4+gbLid0zTh650egR7t0ZI2wYcEyep04FAqsXXdhNSveeIPjv/8daO8aed0kJLdsIXfwcOiXZ0pMHHKUleg1MTbMfJ/j7vshRA1RzcvX43QuhAF5qeQ2z5hBlxNHwGG5Kd8EdsOGGcs5/vZvmz2ffHA2baBLj25wWK4R/T40LN1ASfeBUGrztgk2/WMao046GTobRxRHqdT0XHCcQ8SWVcuy7fjaJ/+sEbZnDuNaW3ZiUTntnHzCR9m2VQdrf/c4Q0cfDYOt2tMMa1+fzjHnnwY9TRMOqwJTjFPW4hcU0+7+ayjo7NKne3sI/GcCiUkwFZae0ZDSQvJKR6XbwIeg7XtJ1X1rh6FMTeKg8vs+kBIuvsZx9z6G389pOQ2OxiUKPuj1G3BLOkJHU8hs2UUJBdDdehJt282WVasZ99CDUAvJeA3hLsWmAShFSEArQQ3pxTc2zgXcNhYxJ32vsROQCbR2QblWs7bqzI4Wtq1awbAvnZ+idvfUDfQu7ofqbXubss0UqxzCY8fCDk0oEkd1yEWcPSvC9ETmykXjICSNXTqDIDP76RIipEN7Mdi10LhoHcPOuxgaQCfiOIRINjXj9uyOM8iUk6xvYOmUtzn8svPBdQl5PsUlHaHIhUaouvVpetGVDiOGQj0oLw51LsveXcYxV19kqYkZrUJChBSwqppYYXvyBvc0BO0S1k5awElXftXUXU0zTmEem6au5viLzzZd+9Z6nB7tYP4GOhREKD7G9O5U+yx5Yw6jLvsqxMCrrydc3A4vEaNv5+5QEDbC/dZnaK5eR07/cyGUVmGVMh4SZtbcmsSS4C9fQ6euPaGoHQ4eDh5iTJoklUd++3ZQaNTvloffpGnTckafeIPhph3N4OTRUFkFE04CILZ0B031uyg5bhhxr55w+yIYXoxjlat1f36NrkP7UzBuCHrtLqreW0Tx6MGEx5gyShBY7jNV7X0r3W0dW0xr0ERRJHGIAzkEht62m1d/dPwfDmNwllRXY+BinHpQDr6j92m02w/HG+O+koq8PM6i2U/S6/gjUuKi4qF/0SWvCPqbsSwtEG5RbHvg78w+6SZ2z1hqnouZ+lAKXK3QRQJ9wug+Dn5ve/Vx8PuA19tefUH3dPAiYbunl3GptBt5IkvLWVL2GnlDeqTSLp/0LD3Gd4auhuH9Go2WBNV3v8CU824jsXY7AHofZe4C+WJ6TqUdIloREeP0EBGHqISI6qhxvkiphxl/HU1LvI6qR6cza/AN7Pr3+9A/Qo+LTuLtm39M7L5p1Fw7mfcGXEXHdQlwXciF3kcewwfPPU/DtW+w6cu/xW8MAe3ZfOsrTO3/TWJztyMrtlDd8AE5x5m10yGiZh5eGV+rbc+8QnNDGWqgsR0QTxBt3E3jpAUsnXA3W56YBjFI1ldT+c95zD32J5Q/NRWAqkmzqW/cBv2s4PaSJJp2E39tDktOvINNT0+FKLQ/8QiWLnyd2q89zeaLHqF56To6d+xP0eGHERSCJu2nodF2J1cFdQmmP/4MPUb2gU6gCRHPaF/5I3tTU7uRhiufYNUFj1L5xnIG9DyOrS/PY0HPW9h472tWtRLq/zqJ3V95mpkTfkhOtRlaFU8cx45tC6m/7HF4eBmLht9O2Q9fpKDItA/11lreueYqdj413WQR04zz7Px2GKMYRe2sStsrYqcMQ5K+wijycI2mVdVM+5gQBTtUUmbPO9KDVQdwJHALVjhamfvMZ5m/My/Bbpvp2v+NRV4HKfhCSO/hGZFu2x81Dx9AY1RKaW5CFXal2+eOw+1lVKym3VWUnjae/KMGmPF2cQTXyadOdjH8x1+m8NwjTSNwFAnMNFegSQdjkdbTjGm5GKhFwWx3MKGmlI+DgzSEkEh3ul54AhRHwPNpaEzS+bTjiQztDgqcrrnkeflURXYx9p6vEzqyh3EIUnuTvFiHFux8qDJz9pa41AjAvsucgw/odSIRSnr3oIFKBn/vQtpdMhYUFI0bQ0F+ESv+8QbNThPHPnoL7a4eh9j2Hh09kOL8ElbOm0nfqz5P8T1nE+ncjlj7eg6/83Iip/VG6uPEcgvpdt5xUBwGrfCVLR1PkWz26XbisbQ7rh/kupAforhHT8q2raPv186g9OsnQh70GT2YzY3l9L/8ZLpddwYoaKptpMvYMRQePwjJDaFyQ5Qe1pON25cy6BsX0OWak5EdLUTaF9J14ADWrFpIjy+dRclxY3n/2b8z8K6roVMEUZ5tiMpOx5kGqnDAc/FyFZ0vOI5I/9KU8FfBwLhfJ7oe1pdNi2bRfvxAev/hKqJj+rElVkmfK0+k6/fOhjzoccRAKsq3U1FbzwlP/4DIhD6mWnoX0v/Y0ayftZJ17y6g2+eO4Ih/fh96Wm0vHKNL/8F0PPUo3N4laDsXHkx97486L0BC2e2iEVxfIW+WMeOiO6n709tsfOgVunfuSWhEF7Roko5KOV0F/bJv09P2t5uZwN4aZZv3am//lNkEUzn7zsV++tIb04Zn56aDTPv4hMRJcYFHsBngHm42RpWQdEY/iWt9imDfR7lpaZbUghvME6do9HBJoshtFUfgo/1hfscfB1prcForVD7gaQg5GRWbosMzBkQAIsFABcGsforsoTw6qTgDPzXX2jIEsR6J9r2dMQjSDLzdnJS/XxriJ1BuarNmkjalVqE2NfDiWddx2i1XU/j141KPd37lz1SvW8WQdx4whrFaWHXfP5CqGiK5uYiGiB9lR00VR93xJdTITpZG65CiwXHEivLWdLX129cIopO4TqRVmCQJoto1hqI2NeqRsB57hqWDtz5pJj/QNuATDPvAm72BJ8++kasf+yWcNoTGuyfz7q9/xrlL/gUjS/CI4eqcVCYE42wjCuPIpDKseypw3vl0sJ9jeOOd7eDaPT4ktcDAEGf86X0gVzQiLkm74ilCpqPKng3+40IBnuvi4SFABE3YEZAwWiUR4taDL4JPrjXSGPNKyL4JrPLCwVvb4zjmIELflpkijINPxDGNOQnGicnoJ4CL0qqVZDd+7OYmbvMasvaE4FSTtNel8XwLVBCPwCfSRVm3TjAMDFgXVoeELQcHsxREE8YXo6ApH8KOJqnMoQouZhFJ06zNyOqtFPYals7wX5fxzjN/5KKn/2aYHQBNpEuEUG47Qq6Lr5LkALluCOUYCmOiCStSXmjGTuJa5T49qaQAESFpe0FHBCFsBZKpPS0OkWBneU1qtaDx1geHSMoaH5RHGA9XHEQFjtAHADucjNqeLzS6L1dXvE7QpxTcfAbRx35HbOk6ckaWECdC2LrSIhpHOXhBx6d8tDJamiCEEOO+6xysFtka+9XDGyfSwAjhpLnENeNgR1lpqdOMI46YhoxgNt13Uv3TfkmvD1kum+p9Aj9XbJ3PTjYAACAASURBVKR2029RdupETIC4owghuOIQtwUdjBo/lcV8NlJxPJS2a6ocD982Yj9QdyXDZ9d2M5mumyYSoxX5CJG9OFEapNbopT8irZOlvdBt7yb2j2D3QReU51uDaFuNQiN2yECVz5JrH6Fu+SY6HNmP3BbF5lkLGHvv9eRfdYRhNpuPvZWnzvihUgZTs6jFcRx8DPMZAZfRluwCKbRCXFNrSmtQIaMxiuAE3aIAjllsFCdkZwaEJEbYBafCRG1Rfpz619j0gJhK70fPhiS6qQ6ntCNvHXMlR11xMR3usLM9K9ZDYT4c1hViwOLNUJAPQzqaqltRA/UNMKIXFMC+5tE/KfZ7eWwmX5n2Iik/3oC33FRH1VqdV7RdYvLJ0MrhIWi8qnW6lkSUClZgpUfbe4Y82DDVJexroU56XZegQJy2s4N7hDdlt68GsLeSzazWj8qtNrJROXvRdkzcqQ0gAFm5Da9yN+H27WFwD9tAbSlrBUqjVWZMpv7tygTartjWWmyH9tH1Y6lJWU1SOc8U/o5k1HlmSR+s+td2yOUYvWJbnEXXPkRiaSVFfUrIqfXZtXQtQx69kbxzjmbllT+jbvJSuvUeSK+/XM/Gx/5F1d/noWjh6Jfup27TGhb/+GlUrJZRX72Edk99pa239kHDp77jzcFi8v+GVA4u/n9Ez/5if6hJInbqqrXo8ayvvBmXBgbXtIq2Z5yt9bygh//fQYYArk2yauJPiK/bxaiFf4BeUXhgFjNu+R7Hv/kssbBQtWgVPTsdReXl32VXOMyQF28l1KsXa074NrHd2+hxw9couf0Ctn/1ARrXrKX/ukc/NYb/1E+e+f9pzv8dTHNg+O+i+cOoCew1YVF29xizPt5RgUocLCQ1MH37f1f+DibMandlxv3/mM/CuS/y5WnT0L2s09GgvtQQgbwwOSd0o+cpvZHHl7OOzRz34IM45/SCSmE7NQw4bgwlv7oAwtDgJwlHOn6qtP8vidUs/kNQGT+SgMbBERe0iyMuIW3Y27cB3ZSJTPZyZW5T8b+JlIYTg7K/TuLwLqfBUWae3wGq332PviXDoGepMRL6UDHvPQr6DMb5stm9lmWVVOyupNutlxmDUq1m29K1FI8/6lOlPcvwWXwkMhXwCFYtzFzy4LQN59hQ7l6uTHOc/e5/Sp0n5eZCvbB1TTldzjwJ8myummHZP6eSO2YQ9LFLcat9VrzwFl2Gj0gtiqp9ex4DuwyCI8zGlaxsYHnFHNp9ZWwqHZFgIe2HLdY9UNqzyOIA8GFz1p9dJb41dMr4ZyY4c0IZOX9rPTu2Lqb/d76cfrahGalpoduFJ6cerXl7Cd279YN8OyG4bD196QF9u0BVAloSqU1aDh67Zxk+iywOGHatJXRw6H/JeUz789OwHniviScvuJKzr/8BnFFifSKAtWXsZheMsysON8WoX78Mb0BHyDPConnLZnrmdib5+3d59fzroLk5xZwHk0mzx0VnkcUBwkGTJEkoHKX09i/QJ17PvC/8kMao5kuPPkT06iMQfDzfI+RGibmNdDv1LOhkfSW8ekKndKH4gn6pOPO+eDLVL7/HsqWzOe9vv4WSKL41jB5Mx7DsQRRZZHGAyPTsCBzS7IaF9r3ZcTZKm2Wy1m7ZdpXm3iaV93fb6QNFluGzyOJjImCcwM/RrO23Xp4Yj89gxaCHJmz9GDSKZMqFyIQNY3a6FQTPemIGTkOfdO1JJrIMn0UWnxCCOfPA7O4jAdsDxiU6cERy0SgvCo6QcHTKf7+Vp6DCujT+B33ps8gii49AsLmCExyeYfZwciVkViORBIm2XiwhtDoVJ8DHWb23v8gyfBZZfApovc9N5ih9zxH73hj+00KW4bPI4hBCdh4+iywOIWQZPossDiFkGT6LLA4hZBk+iywOIWQZPossDiFkGT6LLA4hZBk+iywOIWQZPossDiFkGT6LLA4hZBk+iywOIWQZPossDiFkGT6LLA4hZBk+iywOIWT3tMvikELmPhOQ3qrqUEG2h8/iEIAG8c3BnJizHBNotKjUqvVDBdn18Fl85iH4JPEQIkT+W/rz/9BxiNkePovPPASHMCGiKNSy3Wy84jGm9rmB2jsnwa7gSIlPI9094fk+Ce3jK9L71v8/IsvwWRwCUChcYs8t4q8jz6b7yMFM+N0tLPrFU2z/6s8hZk93sfxn9qQLLgOx95K6Tz+XVmdVp5H+Jh3CdV3CysWN+4SSnk2vNXSbtPY4pu8TIMvwWRwCEBDBGVrMVxY/T/TmE+Dsw5jwu58y7c1JUNlszoATw1stJPFJpLaKTrO12VZarC3As3q5h4BY8SCkmNycMRtsUw3N1mKg5lfyyrHfhrpEir44foZ4CbaxFJKQ3tz+IDB81kqfxWceDgJKERnRyzzwMC3/yL506tARNuyAPn1IOmY76Xwi0AI0gyoAosocf53A8GEYQkjqMNywryDioPFwVBIhiqOB+jCEwM1TOE56NqDp7zM4bFM1xPJBg6MVbshHiJg96GMmbTooXJUx3A/G/J/g8Pgsw2fxmYe259erKmj8879ZN3kOOSV5DOk6GF3rgG961jAKWlwanpjGpilzyK1oZOe2XYy/+0okBu9cfzeHnXkMA5/4CVLqoDRs+OFzrFswjzNfuR+3MAQ6hPv6GpY8+BQRN0rNynI6Du7DoCevJ+QK6378FPqv8+ia3561Z32XsnCS05+7h1D/dtAAdQ+9xsp/vUuBE8InxKgnvw0ju7fe9PaTQLLI4jMGnfHbD35UiSwd8X15m4tFZu4Smbldlg26WdZ2vUpkUWXqww0XPCgvMVFk3m6RdSIz3Ytke/E9Un7RH0XunCEvc6zI/PpUnHOLr5TaSx5LJzp/t7zOSZL89QyRZhF5aoM8zhEii6pFmrUk/75UZqqLxPvJ6yIrqyS+bKshsklk7ekPyBtcKrIyKbJTZP34u2RJ/5tE6jMy42dm6sCRZfgsPnuwTOGLFk8b7tj93RdkCmeJLGhM8Wbzfa/I/C4XiGxuMg9eWS//ZLzIlF2paGRjtcgOz4T/40J5PXKJyJq4Cb8+JlMKLhD/iQXptP+1XiZzgsjj69LPVleKxBLm96s75S+MEVlSJ1oyePflcnmCASKzGlOf6d8vkMmcLrLMcLzvi8REWku0A0TWaJfFZw8KPMcM1V2lYBfMf/JFhl94FozON6axOGxfuo6Czj2hYx4AK+7/K8cddRKMKyGOTwKPeJ8OJEsVJKF2zny6DO8KXe2pkQvLqG7chjOkXzCch9P7MfzsC5j+9a/TdN0/zFh8UBfiEXuw1MbFtKMQurWzR0yZYyPX/eIJThxwARydbwx1ArXLV9G+tAPkWmu+02Ys/zGQZfgsPpNwBRCNRsGqSkL1TYQH9zfvALbWs+zFd+h4/PGQB2yPU7V+HXrwaMgFB4VLCBcIoaBOU/nS+3TtNgwKTRpL//gCQ/ocDYflksSe+FoA3V64juNvv5n3HvkN5V/4HeyGqDHXs+yVJYw85gwoMnE4yoWdULWmnLw+3Y2RDw1JKHt3MV369IdeHQAIaYj8J6flzCyBfGI7woGnmf79n8BBmiHJ4kPwicpYzAmuwdnqJBL4jqbDyO7pMO+upz5RSclN55n7HS0kWjRFI0oACOMQTkKoLmms6xV1VFFJt8snmPBvbaNu6kJKR46CbhEiQLjOg+0NkBNC3fE5zvrdg8x9/VFYXm6+qYbypXPpdv5YYy5vTkCjB7XN1CV2U3rWOAAcHFjrUbVqAx0nnA2hoBzkPzMPL2iSeMSAJlTqvOxPDxq0D9pHxEPjk8RH8EH0p855GiO9gzO7BU0zHh6efdrWdeK/AGKEsT2v+H8OAiT5mFWbUnkdM3M+qBuJaA617ywzj+fW8berv8/FP/gl9Iug0dCjiLyQS8PL02FdI8xv5K2x17P5wX8ZerZW01K/Gzbthjer2HDTg3QGcqOdaHx0FrX3v4a8sYLnep0GtTYPyqGEYuhYah60xIk0NKGX7YSl8Mox32HnSwugTx45+e3Y9eYcE243bLjiHgSP/B8ei8YeLO3wiXXyj+VLbxx/fJu2A/iog0HNh6YYQBk1LUhNUo8/VWSeBR7CR9sjgZ2UG9Snd8TvgSJgFof/7XnXj+turtEo0aZNKgCHlr+vYtUdv6P08P7sWL2d7meOo8vd50GOIik+YeXi/XM+c694iOJQhAqVZOAVF9DzngsgH6hMsv6Sn1E7cx6xXt05/tWHiL00i6V3PAYDB3P0cz+F+fOZefOD9D1hNH6HdqyeP5+xt1xL4VVHm7w0waZv/IHaZ97CJ4duP7yU7neeBxHgnQqmfO4HDD1zLC2xRup272b0C3dC54idd/dIH0z58XntgBlea41yHNTWakiE8LwWQv1KEdf5lHnOA1xoEdjVAk1xaB+GroWtQn2aaxJ8QwHSlEBtb0KaNKpne+gQ+g+thdj3SaSpp+J/queNfxowSonGJb2abe/U773UtfWJU4LR7bVrIqhNws6d0LEjlEQRwEeDxAmpCOBCow8NLVBUALkmhcBPRzUBu2LQPcc8SAJVVdCtk0nYA+IaKmpBa+jWHgojls4EEIU4sL0J2uVDh0B7FOMD0OQh22tQ+QXQOQ+U0SZb0OS1KoGPf6D0gbcCZfyFmt5Yzox+lzHvlJ9Ck8YnU/06cEUs7XG8r/c2k9UtrPnc7bwyZCK7n58NmKO5U19Kpgf0QYLVjD17q9dVseC8HzLp8C/hTS9L0Z/5gU4NdDLzJfad0NrDWqfe6lRc0irWfZVMW19ujTbHkS+owntrBTRC4JspqTjbpr/XLO8l3IfVTzqfbalPf9k6jj1zmX7hWMdWo0e1pkH2iLM1HIzHnK/S3/kIiQ4O/qDueCVRPDSiIaQdHJWL4Bh32QIXv2sByVydGsKFAE2CZH6CRK8ckqEESfFpDvskuhXikySB0BRK0JgP3oASGNQJvzCCbyWG6DAJfFqiSRK98ol3EIRGFE24aLQk8fND6H6lSJc84gqSIvgCEVEZOdZ7zfP+4sAZ3ioE+ZefyKDRR9Jr5OHQLoTG+v3urWEEdO71MmuVlXgokb0OOY0kdk3h9chn0He/QSinG0XHHWtSU3Z8rUH5PuogD+tFpXPlIbijujPi5AvpkFdMaFgnm1amxPXRpu9A4+PhI+KjxScumgQenrXratMtoImhgRiaJEkgSRyfOKZT8FMlYfzCEUFE4YtCSJrS1+DiQLXm2eMu5B9fvhaiLkKCOC12qknjWeo0vil/W15i60ljOq9AMHlohAQfBqV9lMRSIX1AaZUe8Ig29hY0no01KKm0Dcjky1HgbG+ieupidEsMDw+lfZAkHj6+CEktlq2Nf3urNmYHMw4uihA4KvVEAS6Ci4NjpIkVKulBaRDWvraDtTAuYUIIIcKElEMODmGiOISJoMgjTC4KB7NsRmENhy4ox8QQJUQIIQwo8lDk4eDgqJBN2/BAKKBJObjKtVS59s3H19Y+/hCvESYtfJ+vPnEXgPUCBhGV0gLSEFAalGsaQiuODxqYcX8MIbgZXwfM7yGE7CTkrjmbUAVdYFg7W4Gmvlscj6gDjj646rUSM83jO2lBUrN1NXQugi7tAZOm7wSNJ2R7BRCsMFSCwiUCKDMxlCGUwji22efZ3jhJCBeXEIFC6KNwzZdKSJLEJWIrMGJY2LFlV+Jw6aI3ISeCH/ZJ4BK2YQMGDBqzaTsJfCKggoYWNCvTsFQGzexNixYQFcK3jTYaPHYylE9xEBUIElNGLkFPzh5xN/9+Fu88+CSXNDxrSsQxG1e4QEhh20Ja8wrbb0WlycskU7VaB6/Y1899tZvW3+8ZfxAmXbMZ4ZXKiL81VXvGp1JrZZTa8+0nxYEzfJDu5kYc4nD4GJi/neaVa8k7biT0LcITIZxJrfJTH5oCaW10aGtcCnrT1MhTQ8RRKQapWDOPcZedCVUQnzsfN9chdNpoouGPNmaklMIPMV0I4KjW1SMOtoEqqIV1i1cw+sLToMD0Zo59T20LLVMWoeuS5B81BIaXolwzFnUBFmyjZsEacks6kjt8AInKDUSPGgL5LmpRDVJejpownHChCwt2oteuxx/Uk+jonrChkdjylURHDSLcqz2sqCSxZBWRof1xRvQEV9GyogK1bjs5JR2QI/rgKshtBuZuJiFJIuPMXHTirUWEROOMHwYdo4SsZE04mggOqgES766hbutWOh0xGHJD1Pv1tBs9YA+eFzRKOUagTN9ErKmRnFNGoFxgdiV66w7UmO4wsJPp2TzQ09eya91WOg48DDq3o7GmioJjhyG+j5pbwY6nJzOhqDc8s5TaIo/244fjFpnpL+o1TZPmkmiI0eGow3GGFkNI8GxvH25Tl23rVmFsUQCOY3KitbS6/ygE4fcFE8++w+zrezNdr1BOehMuJ+PdJ8UBMnyaSD15Gkd1GkTz79+kbOEUEit3sEMlOGPVXwn3zmm1oEf8EMqF5rfXsOL5t+nbewieZ/oaFdj6FfjNzeiiHEq/Nh665OOS1tAEy1DbWtg9bQMjO42g7Fu/YteycqrLFnDCvbeR++MzAB9xnD3ksanoDJOW2nvxZY6WVKCYKQCdFlZbW6jYvIqjh38LCCz3wLQKJl9+Kx179CHk57Hl6rs585nfEfrSYEhA7Xf+wfxHXqbPly6hdukCCpf/jPoBpRw97yHKbp3GtvufgUQNR157FX5piOV3PcFmFnLqT+9HL9jFzl88Q8WGckafdzJ5Zw1l0cPPEVnTTKW/kbOXPgcjuhJqgQXfeIQtO1dw8aq3kNI8Fl/9AMlJa4k3N3H8H25n/Xvv0DyrjB1bZjDqa9+i05Nfw3dMjiM4sLaKBWfeRtxvT7czxtJ47x/YUPEuw+78Ee3GDCBBgqhhPVPPSkEjvH/Fb8ibupHymrWc87Pb2b5jKxt/83e2sonTHv49HQZ2giqfVWfcTsWi7fS58kyqfjmDqg0z6HTW+Qz59zASczay4vonyN+8nfxTxzPn4TfIHdmNw0883KQ4vZbXT/8O3UYMJxQNM/WqH3Hhy0/A+UNbDSYlQywFdpHM9Se6Tb/Q9v6jcKDh9+/7tJDIFAfGWJy5GdcnYP39csDVIlp88SWZehS/+gmZyQTZ9cUnRRIiMqNenmG0yF+WiIiIl+Hhr+131Y/PkemDbpEFw++UD0bcLfNH3CkfDL9HPhhxr8wf8YDMH3KvLDz1XpHNGf7E2rgOp1Je0CxzuVgW51wt3qwKES1Sf/oD8n6PK0TiIlr0Hq7GvviWHl/Es5HFxNAdt1cs41mLvXxDvfF51qLF+FTL8wvk3+3PFplblU5kXqW8kX+e1N72grmvF3mTE6X57qkiItJw7xvyEkeKTN9u3q/yZRbnSvI7L4jUiZT9ZZbI4qQkz/ujzGWC1H7jOZENIlseeFVkUY3semWxJOc3ir5+sqzgQlk78DaRKhH/6TL5tztRZFZZipSaq1+Q9wfcKFIvEi+vlZ0vzRKZWS/rCr8lszhH/L+vFqkV2XDsj2TN6XeJJEW8oNyqRRb3/aYsHvKDVKEnfjRbpnCeyLvlqfawh0P31phsfGKWyMK41A6/TWYyURrumiGyNi6b73hBpNwT0SIrj7tT5nW6UmSn/e7Z9TKLM0T/bW46rrcr5e2cU0XeK2+dxpwd8hSjpf7ON8x9lcji8KVSe9M/U21FtKnvhCQlJr559hmBzZ74n8CZfr97eMmcZ26AsqkL6DzoCEoeudzoUPmCh28GUW0QxyWEUHzlWI6/cux+pAVJtNl/TDSoYJyn4N0FNLCDo/9wB4zrCkBLbglOuCOQ9gjIpCJzJJpcvptZZ/6AkuYwScdH2Z5elEKJCRWLN5Ac2ZXjX/85lKTtQQrBBar/OZeiUDcY0DFFcOW9f6cwUkrR1RdCRQsbr/4V4U7F5F40GnbB3Nse5Zwf3QHHdzYSu6mJ3YTRowdCO+j1tXFQoZn//lyKDj+aovsvgXbQ4zvnAlAyyrhX7v7REprcXI6afDt0hLpdNSR8F6K5hpZaWPvKZEZcfhEUQqiwiE49x8HMSrY3bGPMDZfhXDoImqG8bDtDThwHjlEjXSDx15lUbtzJmXN+iYRMebTEdtFhyAAYZsqbvTl0d4/S54pxsLSa1cuXMOLzZ1Nw63EAHHb7hSbM6xvZNvMDJjx+D9iZrERTC1Uo1DEjUlph85uLaF84GAZ1xSeO4BLSIdbf+hgnH34uhVdNhO3Cqi/8khqSHH7tGWmyBBxxcJQ1INQnKfv535GyGHmdi8DXOALqv9VhCmvlC1p8yGXr+jIGTTyanOtOsrNh6mOb7faP4VWmqQeoaGbLhhWc8ug9UGzDVO/CIQRFmaYHgxyMGd2vrsZNJMEJTEMZEB+cCCR8VNf2hCPGxOQ5wVi+Bchj29Ql5BT3g/OGmu+SScLNdSSt9a4tswOIdY9xAaejyxE/v5wcHYWwA1pQGeN5B5eYV4OURCHqk8QlJNb0pgAPduwso+fJg4wPNsDWapKbtlESS7Dtml+wpayKSJ9unDLlcRjcHiavR/lN6IGDwNJR++/pOK5PpH9nPFuyzrJtbN65lTG/+R60M9Z5z5Z8HuCU+Ux7+10mfu9q6G1WhzjLllDauzsMst5c1Q3UVm1FdTcV4yM4KJreWk402o7ca4wAYXUltQ07KDr3BDtkEtCKurlrcFUUBuSbcoxB7crldO7TGYpa+xsEvz2bThRFy+xN7KSRsdcbJjfzzD5hXOrmrSNGHOeIw7DE0TJnHp2Ku0KHXBOvD4unzqHX8D5QoEgSNUOp7T6Ni8spcIvZcu1vqCnfRqxDhJMX/REGtTNCWRmjpdkvzhoPlcuOqhr8bbtxKrbZue0oDjkc+PRt5rh8X2r1J50fMqP44FLi4Okkm7duZdAnjBn2k+ElVa0ALkzfSMzJgxNGpiq96R8L6ZrbCcb2b/MtKJ0AN8KOR2Yy6a47GM1gknbEpYA4YSBBnDoiHXpz3NyfowZ0ABxCPiRdEPII7U6ycf0shlx9AXSwCWysZ+7bbzDhvp+mGL4tNOnqcbsX0v5rx35ofgvaFJBSZssjl3xYvpM17y3m9F98P22O3uizeul6Tn/2fpjQh+5RDe1zUnHUTl1AKJxD5AhL9G6ITZqHlHSFMaUE8rxlxRY6RPMJH90XwSyUiIoYy7NSUF4BxJDhtowbYfWkeQw8fUyK6KbXlqJC+eSeYJpHGAUaypctJfe4/tDTaAJ6ZSW58QjRMZ3T4WqgYsUSxnx+jPEuA7y3ylkxeSoTbvtBa2tYqnLNj2BmRdZuJ1RYAqO6oIEEHjmEIAm7ytfRc/RQ6GWdpda2MPvxf3H0ZV+DEhvVhkaa1m0mcuV4yHdJleLyrWxJ1jLqgW/CxBH0DPtQZCvANzM/rmt6B2Nr8YiLS6SdwzF/vvlD6/t/CYFHxccdx+8Xwxsbc7q2N766hP6dekKXQpPsdvjg8d9yzHXXQ5ecNt+COGEUQrfvns+V152/96kdSFvLrKaMFnAUIS3GarkjTOOmegq6laa+b3lgEknqiXzhiHS0bbYAyuz1BbFz2mkC2srkIHzqOwmDsvmvbiGHMPm9RiCbm5F8Fyfq0EANtCuCUmPMir1Vzob1yxj2rbNxJJ9QuBgKzcKMlntfZeuceZz89WugGpJNtUS6dyAxZz19BhwJRVEU4FtGdyyB8WnldMrtRs4xfcyDsloS22voOP5UqBTwILFxF04oBAWFJNY0Eu6fj6pQxOeUcdglJ0I78+mOGcvoN/JwKGxPy8rt5A7sAiEh3pIgmtsZcoBKqPjOI3Qkl8jQTun6NPNwRvFzQJQ1aNZA2aT3GH32SVAUVIPtFX2Fm3AJhwuhIAQJ2HTFzylB0+HIw2AHJFQTkZY4xLajuhmhUP3SIvKH9iIn7ODFGqBjB+gUAkI0vLmcqvUb6fvt88BxaJqzjrqFq+h20rG4wzrhKJ3SntqYbDFzC5KaFAxMZZnG3sBjz8exQ54kGgcHF8HHQxOyM+cOif9r79yDo6qvOP753bvZDQSS8AoJlgiEAiISoMpjilANU0ERLaU+6rR1lHamM46PqbV/1KkvptbB1o51rGNrx4paUBFBKlgrCvIWpAoIKSERJAYISSAJeezee0//+P3u3d28CBQS1P3O3Gz2t3d/93fP/b3OOd9zFiGC6Ng64wIVE3Wn3cr+2p1Ig+osbCxDKGrp2js9dEoVcLBwfS9lHTSVfUjlkV2ceH4VsTUHWZ13G/2nXUWvR+a1WbFPkCATZAB4OeAOSD68ASA54A0EscU8AaMeGD27ZvH7WLEjlC9aA2srOPCz53npL09z7YolMCzDkDi8VnfV0h9ro7BFgiPU4lDS4ucJJOFFNdFENcX3/p53Z9xFrKwKxvRn9IRJbLlmPlV3LWXHlAUsv2o++WGt82bNLqS24TPKih5l9+ULOVFawbBLrqT4xbW8U3AH5X/dADXw6msLyZucC1nJ7Rcl4MLnq5fi9a6HPL2cixOlVqooeWwRG2b8goZdn4HroRrr2DX9Ad7/8SMoUTRs2sHeI69j5SZU3FDN8e07+ajofv77m0XQ4EK2YuSMb/PBi4+z+7LHKZ75KAMLhqNys7GGa5UhBjShiCkPz/aIKiGKp60bFfUc2LOa9EF9ArnbZodBOgwYMYLSLW+zd9IzbBr/O4aOn0J2xhDKHl7GhnF3U/fOAUjLwPJcahYuZtvoBez8+R81g+DSwVyYP5yNc+6h9pcr2TrxQdZdvYCMUG7wvKtf+Ddv33ETzvvFgO890fnofNqKT2GxUIZco8ygVGZQqeAIYRHCJg2I4BEmjXRswmUNRMobySCNEDZhSSPsZRBpCJH+uUvkQBS7pok0FLYhNVmeYEm8PTaWqb9zR6In//9Bp7j0/mY+BMjRKBXPLWfQsKFU7i6mqaaWnEnjiVw/GXpBk9HX7MQKxEPExVEWQpKtPwAACIpJREFUjlKEaE0/CPRYEjqJWRx8Akft61vIqIoRw6Vix2565/Wn/w1XwUjdkTXXr2XtZwZfLErptrimU9m1HjWvvYd3uI5+110BF5tBdKCWk8vXU7ltH9lj8smeOwuGp8cFuHIPFevW0/uSAnrdeCXOJwcpf2sNF04YB9eOg7oYR19fR59RI0ibMphEEbhAqFmoXbae9Ky+hK+8GC8iWE2K6qVraNpXwaA5RTAhF0orqVm8kYysTMLzpsNAC9nzBSc27iN72hgwqpIUV3LwxVXkDc0n/P1pkGVBcS2cqKdx4w5qqmoZdPUsYst3svbJPzOj6mXo4UcTtCOz8gYOr9xM3uWFyOh+uqMLOEqvdNZxaHptA4d3fkT+rGlY3y3EWb2bY5s+JnfGVJieDx44//yUmlUbiQwZQOatsyHHXLP0JM1L13H4k11kF44m6/oZMDwS7Bi9TftxPy4lbdpEGJ1lOHxxxtwZ9wUEJQq2VrD2noVk1QmNh6oZ+sOp5C78KU5Ps1X+9BjrbngAvjjO5Bd+hT17LK54hD2rI7F1LTrnD3CNW659d4AjnjSLI1GJSaukW64n4rgirq4jJhIcUUlO0+X4/wf5uzxxRSTWjn8lZqr3xBNXnLjv4lRwOzjaOT3WhgSi4kqsTVegiHiuuJ4rUXGSPvc9g/7/iV4uV7RMEs/3pFk8J9qiLclN9UR7F6VFmTiNySVOU5u3GH21RBYzS2TrkXhhs8jWwXdK9e1LgqKqZzbIxkt/LaVzn5biuU9J2bxn5MPLHpTqZz9Mal8gStd/JMGdBohJMpw2WhaVmCltKUW/DleaPWntfjOu5Firq54+XBGRwyfl5YtukWMPr9KFbxyQN5gu9Y9+kHziws2yipkiJa44IlIvnjgt+mR3ego7aaW3jB6vEnTguM3S32iEsXGM7TNpV23FtyJtzbaJ7/VE6GmuqrmCwtaWdBXXw3ydy0YZDo25huqkQeNUykyipU/F+dY+U0/7LJQxgkjgukuUhyh/ddHBG/79+Jd2EutU/qWEkKgkXpAiLYgFFuOU8emXMbTBysIiDRJ46crILGzaZq5rhRPswGKYaYq6j/bSh3TI8mO34Yv7llBxbC+X3ftAIBNvuE3Oj8bSM603nrKwLCGn4QLI7w0CzSqKi9BTIkYQJphZLPP8En6UAQwX3nf6qqCtvrRsEzNn8s7gJGjBFpoTbxvDoUdcb7aUZsfHHVxnDgugb4Sbd/wNIia91XX5DBxWSNXW3WQwVTM3PcXB0mKyxg+HAr0NT0PhKbCDlPOeubf2O6Dfl9pDgoP8tHEaTDtfi1DYbVjd/HehToi3c2fEJ4lgAOmkm6CU0etbqgZnOQS0hQfG51Mn3r3PfPYHbisetXkXSnjX0eUUKu6ZaeM7SlQbBkkroci0xINEDrdvuFLBvegB5sfp9b19KplbNrF13t1E8r+Bqo1S3lDFnM3/gFF9EWPX6F80if5Fk9q5g6iesAihE5MYJS1BaVRoNSlZhsnySgy0Ti6PS1a10mdVcE9tS+7M4eJBmq0V1YMn4dARGDKMvCmFxMqP6JDYCNCs2PPOWqb+5AY4CdbWYsJZ2TBhIGJpkViiadgdjWh1DjWAMwqe6Z6f41O606n4a3ehvTCKxL9nVu8pIG2/bWkPCUoSDZ/t1B5MVwVZTH53AZTUweFjcEE/xg41Jn3R9mrP8oeZMY6izKThYaFwCWNLB53Vb49K2jy1Qkdy6Oqn7opgKwvqoeT25zi2eiON/QdSkNOH5m0lZMwsBNtMt3tq6VVymAynB/t/sJDKVds5yXGKlj+FmpPsru5obUqkCLeHM13aztOsCNLiIHiVrvyx2+6bU+LXb3kYJEqhXYl0sv16R6y30c7w3sSmDiU2NFMHsoqDeB6WqyMGLdG7DNvYtHW8WwhlIvvseCBCh+0/3xH8nJtZWCpu+ROlr7zE5Pee5Ir9vyX/sVupd5qwsnKCZdOrqqYnGWx76FkKHryVyRWL6X1BAcVPLwf0hsexTj2YOxrw/2/vP08zILWOeutsFNNZbQJ0XydtbypWHX/c6vudbb/yjGJiYfmR8GJ81baN8rTvXdfbei/j71CtUzXuSzLo/UyNISxYvZ/1K15h7lNPBGmurSE2scx6wnnZ8e9s3k0Zh5j75iKYOABiEO2dTsTWwywIez2FmelcrsLn6QqfQtfDNpQSjJ/YxlYhQipNl1pWh70lmKK/Ij0qcTw2r9tFiEzsK0bGbQ/ryzlcW0O/ORfpk2Kwc+V6vjlqLMws0GX1EGloICrN7VfexfiKPJ4Uzi4SNewvyZJ8FqG31GYKi0Hp1l1MnDgRBkUCiRx6611yRw2Gb5nU1+UuR/eXMHL+9+L75o+Pc+TgPkbcXBTUbXVGQT+HSA34FFJoA77rGQt69c/G8aqhh3HJ/aeRbS+9SeGN8+MBVEcqSa85Snjc6KCOA0/8ncxwX5ihad8iBHFo3RWnlxrwKaTQAnFePWDDoNnf4V/b1sIbpbD9OGuuvo0x1xSRfv/lwdmN722njgaOL9kAZc1U3reCHSuWMW3lQ5BnaVVAgVgWYlndNvDOKC99Cil8laFjzoUQomk8zdC4bCOfvfIBQpg+RWPIu60IeoC/Zh78w1IGnEzjaF0zNbsPILlhxt95ExTmaHq48mlX3askKdd1UwM+hRSSoJlPOtW1CjLK0owOEbZ0lnlbBMsDsQTLFQgZBoKfyB6PKApHhB7Srap7AOWdKhtfCil83RAsw45RtkNgCU1KB3aFPHCUF0ThKSCmFI4JkLVQOESxJGxCm0XT584DKMdxUgM+hRSSEI820APfMsEOelMe35ZLAt/QjwiIM4+UX49ydU6F82CNT23pU0jhnOJUKbG6FqGUzS6FFLoC58c4Oz8UixRSSKFLkFrhU0jha4T/AY042KzX9DI6AAAAAElFTkSuQmCC)"
      ],
      "metadata": {
        "id": "m-UBpkf5343N"
      }
    },
    {
      "cell_type": "code",
      "source": [
        "# Utilizando a classe SGDRegressor\n",
        "from sklearn.linear_model import SGDRegressor\n",
        "from sklearn.model_selection import train_test_split\n",
        "from sklearn.preprocessing import StandardScaler\n",
        "\n",
        "import pandas as pd"
      ],
      "metadata": {
        "id": "6vlN3OQpAqpa"
      },
      "execution_count": null,
      "outputs": []
    },
    {
      "cell_type": "markdown",
      "source": [
        "Download conjunto de dados - [USA Housing](https://drive.google.com/file/d/1QCS54bp2o4eEksI3I8Uytb6j8U3CQ-kx/view?usp=sharing)"
      ],
      "metadata": {
        "id": "ACBiNoUeHiud"
      }
    },
    {
      "cell_type": "code",
      "source": [
        "df = pd.read_csv('/content/USA_Housing.csv')\n",
        "df.info()"
      ],
      "metadata": {
        "id": "XiO4E7BYCDWL",
        "colab": {
          "base_uri": "https://localhost:8080/"
        },
        "outputId": "7d82fc3a-127d-4a4a-cac7-c502c3adff34"
      },
      "execution_count": null,
      "outputs": [
        {
          "output_type": "stream",
          "name": "stdout",
          "text": [
            "<class 'pandas.core.frame.DataFrame'>\n",
            "RangeIndex: 5000 entries, 0 to 4999\n",
            "Data columns (total 7 columns):\n",
            " #   Column                        Non-Null Count  Dtype  \n",
            "---  ------                        --------------  -----  \n",
            " 0   Avg. Area Income              5000 non-null   float64\n",
            " 1   Avg. Area House Age           5000 non-null   float64\n",
            " 2   Avg. Area Number of Rooms     5000 non-null   float64\n",
            " 3   Avg. Area Number of Bedrooms  5000 non-null   float64\n",
            " 4   Area Population               5000 non-null   float64\n",
            " 5   Price                         5000 non-null   float64\n",
            " 6   Address                       5000 non-null   object \n",
            "dtypes: float64(6), object(1)\n",
            "memory usage: 273.6+ KB\n"
          ]
        }
      ]
    },
    {
      "cell_type": "code",
      "source": [
        "df.describe()"
      ],
      "metadata": {
        "colab": {
          "base_uri": "https://localhost:8080/",
          "height": 362
        },
        "id": "CpIUCCVJCXT2",
        "outputId": "c78abcbc-7589-4a37-8a4a-e16519c8c554"
      },
      "execution_count": null,
      "outputs": [
        {
          "output_type": "execute_result",
          "data": {
            "text/plain": [
              "       Avg. Area Income  Avg. Area House Age  Avg. Area Number of Rooms  \\\n",
              "count       5000.000000          5000.000000                5000.000000   \n",
              "mean       68583.108984             5.977222                   6.987792   \n",
              "std        10657.991214             0.991456                   1.005833   \n",
              "min        17796.631190             2.644304                   3.236194   \n",
              "25%        61480.562388             5.322283                   6.299250   \n",
              "50%        68804.286404             5.970429                   7.002902   \n",
              "75%        75783.338666             6.650808                   7.665871   \n",
              "max       107701.748378             9.519088                  10.759588   \n",
              "\n",
              "       Avg. Area Number of Bedrooms  Area Population         Price  \n",
              "count                   5000.000000      5000.000000  5.000000e+03  \n",
              "mean                       3.981330     36163.516039  1.232073e+06  \n",
              "std                        1.234137      9925.650114  3.531176e+05  \n",
              "min                        2.000000       172.610686  1.593866e+04  \n",
              "25%                        3.140000     29403.928702  9.975771e+05  \n",
              "50%                        4.050000     36199.406689  1.232669e+06  \n",
              "75%                        4.490000     42861.290769  1.471210e+06  \n",
              "max                        6.500000     69621.713378  2.469066e+06  "
            ],
            "text/html": [
              "\n",
              "  <div id=\"df-0b70aba8-661a-43b6-897f-35a63da41edd\">\n",
              "    <div class=\"colab-df-container\">\n",
              "      <div>\n",
              "<style scoped>\n",
              "    .dataframe tbody tr th:only-of-type {\n",
              "        vertical-align: middle;\n",
              "    }\n",
              "\n",
              "    .dataframe tbody tr th {\n",
              "        vertical-align: top;\n",
              "    }\n",
              "\n",
              "    .dataframe thead th {\n",
              "        text-align: right;\n",
              "    }\n",
              "</style>\n",
              "<table border=\"1\" class=\"dataframe\">\n",
              "  <thead>\n",
              "    <tr style=\"text-align: right;\">\n",
              "      <th></th>\n",
              "      <th>Avg. Area Income</th>\n",
              "      <th>Avg. Area House Age</th>\n",
              "      <th>Avg. Area Number of Rooms</th>\n",
              "      <th>Avg. Area Number of Bedrooms</th>\n",
              "      <th>Area Population</th>\n",
              "      <th>Price</th>\n",
              "    </tr>\n",
              "  </thead>\n",
              "  <tbody>\n",
              "    <tr>\n",
              "      <th>count</th>\n",
              "      <td>5000.000000</td>\n",
              "      <td>5000.000000</td>\n",
              "      <td>5000.000000</td>\n",
              "      <td>5000.000000</td>\n",
              "      <td>5000.000000</td>\n",
              "      <td>5.000000e+03</td>\n",
              "    </tr>\n",
              "    <tr>\n",
              "      <th>mean</th>\n",
              "      <td>68583.108984</td>\n",
              "      <td>5.977222</td>\n",
              "      <td>6.987792</td>\n",
              "      <td>3.981330</td>\n",
              "      <td>36163.516039</td>\n",
              "      <td>1.232073e+06</td>\n",
              "    </tr>\n",
              "    <tr>\n",
              "      <th>std</th>\n",
              "      <td>10657.991214</td>\n",
              "      <td>0.991456</td>\n",
              "      <td>1.005833</td>\n",
              "      <td>1.234137</td>\n",
              "      <td>9925.650114</td>\n",
              "      <td>3.531176e+05</td>\n",
              "    </tr>\n",
              "    <tr>\n",
              "      <th>min</th>\n",
              "      <td>17796.631190</td>\n",
              "      <td>2.644304</td>\n",
              "      <td>3.236194</td>\n",
              "      <td>2.000000</td>\n",
              "      <td>172.610686</td>\n",
              "      <td>1.593866e+04</td>\n",
              "    </tr>\n",
              "    <tr>\n",
              "      <th>25%</th>\n",
              "      <td>61480.562388</td>\n",
              "      <td>5.322283</td>\n",
              "      <td>6.299250</td>\n",
              "      <td>3.140000</td>\n",
              "      <td>29403.928702</td>\n",
              "      <td>9.975771e+05</td>\n",
              "    </tr>\n",
              "    <tr>\n",
              "      <th>50%</th>\n",
              "      <td>68804.286404</td>\n",
              "      <td>5.970429</td>\n",
              "      <td>7.002902</td>\n",
              "      <td>4.050000</td>\n",
              "      <td>36199.406689</td>\n",
              "      <td>1.232669e+06</td>\n",
              "    </tr>\n",
              "    <tr>\n",
              "      <th>75%</th>\n",
              "      <td>75783.338666</td>\n",
              "      <td>6.650808</td>\n",
              "      <td>7.665871</td>\n",
              "      <td>4.490000</td>\n",
              "      <td>42861.290769</td>\n",
              "      <td>1.471210e+06</td>\n",
              "    </tr>\n",
              "    <tr>\n",
              "      <th>max</th>\n",
              "      <td>107701.748378</td>\n",
              "      <td>9.519088</td>\n",
              "      <td>10.759588</td>\n",
              "      <td>6.500000</td>\n",
              "      <td>69621.713378</td>\n",
              "      <td>2.469066e+06</td>\n",
              "    </tr>\n",
              "  </tbody>\n",
              "</table>\n",
              "</div>\n",
              "      <button class=\"colab-df-convert\" onclick=\"convertToInteractive('df-0b70aba8-661a-43b6-897f-35a63da41edd')\"\n",
              "              title=\"Convert this dataframe to an interactive table.\"\n",
              "              style=\"display:none;\">\n",
              "        \n",
              "  <svg xmlns=\"http://www.w3.org/2000/svg\" height=\"24px\"viewBox=\"0 0 24 24\"\n",
              "       width=\"24px\">\n",
              "    <path d=\"M0 0h24v24H0V0z\" fill=\"none\"/>\n",
              "    <path d=\"M18.56 5.44l.94 2.06.94-2.06 2.06-.94-2.06-.94-.94-2.06-.94 2.06-2.06.94zm-11 1L8.5 8.5l.94-2.06 2.06-.94-2.06-.94L8.5 2.5l-.94 2.06-2.06.94zm10 10l.94 2.06.94-2.06 2.06-.94-2.06-.94-.94-2.06-.94 2.06-2.06.94z\"/><path d=\"M17.41 7.96l-1.37-1.37c-.4-.4-.92-.59-1.43-.59-.52 0-1.04.2-1.43.59L10.3 9.45l-7.72 7.72c-.78.78-.78 2.05 0 2.83L4 21.41c.39.39.9.59 1.41.59.51 0 1.02-.2 1.41-.59l7.78-7.78 2.81-2.81c.8-.78.8-2.07 0-2.86zM5.41 20L4 18.59l7.72-7.72 1.47 1.35L5.41 20z\"/>\n",
              "  </svg>\n",
              "      </button>\n",
              "      \n",
              "  <style>\n",
              "    .colab-df-container {\n",
              "      display:flex;\n",
              "      flex-wrap:wrap;\n",
              "      gap: 12px;\n",
              "    }\n",
              "\n",
              "    .colab-df-convert {\n",
              "      background-color: #E8F0FE;\n",
              "      border: none;\n",
              "      border-radius: 50%;\n",
              "      cursor: pointer;\n",
              "      display: none;\n",
              "      fill: #1967D2;\n",
              "      height: 32px;\n",
              "      padding: 0 0 0 0;\n",
              "      width: 32px;\n",
              "    }\n",
              "\n",
              "    .colab-df-convert:hover {\n",
              "      background-color: #E2EBFA;\n",
              "      box-shadow: 0px 1px 2px rgba(60, 64, 67, 0.3), 0px 1px 3px 1px rgba(60, 64, 67, 0.15);\n",
              "      fill: #174EA6;\n",
              "    }\n",
              "\n",
              "    [theme=dark] .colab-df-convert {\n",
              "      background-color: #3B4455;\n",
              "      fill: #D2E3FC;\n",
              "    }\n",
              "\n",
              "    [theme=dark] .colab-df-convert:hover {\n",
              "      background-color: #434B5C;\n",
              "      box-shadow: 0px 1px 3px 1px rgba(0, 0, 0, 0.15);\n",
              "      filter: drop-shadow(0px 1px 2px rgba(0, 0, 0, 0.3));\n",
              "      fill: #FFFFFF;\n",
              "    }\n",
              "  </style>\n",
              "\n",
              "      <script>\n",
              "        const buttonEl =\n",
              "          document.querySelector('#df-0b70aba8-661a-43b6-897f-35a63da41edd button.colab-df-convert');\n",
              "        buttonEl.style.display =\n",
              "          google.colab.kernel.accessAllowed ? 'block' : 'none';\n",
              "\n",
              "        async function convertToInteractive(key) {\n",
              "          const element = document.querySelector('#df-0b70aba8-661a-43b6-897f-35a63da41edd');\n",
              "          const dataTable =\n",
              "            await google.colab.kernel.invokeFunction('convertToInteractive',\n",
              "                                                     [key], {});\n",
              "          if (!dataTable) return;\n",
              "\n",
              "          const docLinkHtml = 'Like what you see? Visit the ' +\n",
              "            '<a target=\"_blank\" href=https://colab.research.google.com/notebooks/data_table.ipynb>data table notebook</a>'\n",
              "            + ' to learn more about interactive tables.';\n",
              "          element.innerHTML = '';\n",
              "          dataTable['output_type'] = 'display_data';\n",
              "          await google.colab.output.renderOutput(dataTable, element);\n",
              "          const docLink = document.createElement('div');\n",
              "          docLink.innerHTML = docLinkHtml;\n",
              "          element.appendChild(docLink);\n",
              "        }\n",
              "      </script>\n",
              "    </div>\n",
              "  </div>\n",
              "  "
            ]
          },
          "metadata": {},
          "execution_count": 36
        }
      ]
    },
    {
      "cell_type": "code",
      "execution_count": null,
      "metadata": {
        "id": "b5hD06ftAA6Q"
      },
      "outputs": [],
      "source": [
        "# Separando os dados transformados em X e y\n",
        "X = df.iloc[:,0:5]\n",
        "y = df['Price']\n",
        "\n",
        "X_train, X_test, y_train, y_test = train_test_split(X, y, test_size=0.20)"
      ]
    },
    {
      "cell_type": "markdown",
      "source": [
        "\n",
        "\n",
        "---\n",
        "\n"
      ],
      "metadata": {
        "id": "OUJBhkYLA-6b"
      }
    },
    {
      "cell_type": "markdown",
      "source": [
        "💡 Experimento: treine seu modelo com os dados \"brutos\", e também, treine após aplicar StandardScaler() nos dados, compare os resultados"
      ],
      "metadata": {
        "id": "UEuhnA9SAmib"
      }
    },
    {
      "cell_type": "code",
      "source": [
        "df.drop('Address', axis = 1, inplace = True) #remove coluna Address\n",
        "\n",
        "scaler = StandardScaler()\n",
        "scaler.fit(df)   \n",
        "df = scaler.transform(df) #aplica padronização\n",
        " \n",
        "X = df[:,0:5]\n",
        "y = df[:,-1]\n",
        "\n",
        "X_train, X_test, y_train, y_test = train_test_split(X, y, test_size=0.20)"
      ],
      "metadata": {
        "id": "y0kZT5Kcihr5"
      },
      "execution_count": null,
      "outputs": []
    },
    {
      "cell_type": "markdown",
      "source": [
        "\n",
        "\n",
        "---\n",
        "\n"
      ],
      "metadata": {
        "id": "p5O7rclCA9aS"
      }
    },
    {
      "cell_type": "code",
      "source": [
        "# Regressão SGD - O gradiente da perda é estimado em cada amostra\n",
        "# O modelo é atualizado ao longo do caminho decrescente (taxa de aprendizado)\n",
        "\n",
        "SGD = SGDRegressor(max_iter=1000)\n",
        "SGD.fit(X_train, y_train)\n",
        "SGD.score(X_test, y_test)\n"
      ],
      "metadata": {
        "colab": {
          "base_uri": "https://localhost:8080/"
        },
        "id": "bvVgky0_A16V",
        "outputId": "7beb6805-142c-4cfc-e429-3130cfbda242"
      },
      "execution_count": null,
      "outputs": [
        {
          "output_type": "execute_result",
          "data": {
            "text/plain": [
              "-1.2871333168363353"
            ]
          },
          "metadata": {},
          "execution_count": 38
        }
      ]
    }
  ]
}