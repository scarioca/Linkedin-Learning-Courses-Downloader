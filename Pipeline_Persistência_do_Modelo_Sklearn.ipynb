{
  "nbformat": 4,
  "nbformat_minor": 0,
  "metadata": {
    "colab": {
      "provenance": [],
      "include_colab_link": true
    },
    "kernelspec": {
      "name": "python3",
      "display_name": "Python 3"
    },
    "language_info": {
      "name": "python"
    }
  },
  "cells": [
    {
      "cell_type": "markdown",
      "metadata": {
        "id": "view-in-github",
        "colab_type": "text"
      },
      "source": [
        "<a href=\"https://colab.research.google.com/github/scarioca/Linkedin-Learning-Courses-Downloader/blob/main/Pipeline_Persist%C3%AAncia_do_Modelo_Sklearn.ipynb\" target=\"_parent\"><img src=\"https://colab.research.google.com/assets/colab-badge.svg\" alt=\"Open In Colab\"/></a>"
      ]
    },
    {
      "cell_type": "markdown",
      "source": [
        "###Criando um Pipeline"
      ],
      "metadata": {
        "id": "OpbOYtWHR_xK"
      }
    },
    {
      "cell_type": "code",
      "execution_count": null,
      "metadata": {
        "id": "f0IdbLzkFrJ5"
      },
      "outputs": [],
      "source": [
        "from sklearn import datasets\n",
        "from sklearn.model_selection import train_test_split\n",
        "from sklearn.preprocessing import StandardScaler\n",
        "from sklearn.neighbors import KNeighborsClassifier\n",
        "\n",
        "from sklearn.pipeline import Pipeline\n"
      ]
    },
    {
      "cell_type": "code",
      "source": [
        "dataset = datasets.load_iris()\n",
        "X, y = dataset.data, dataset.target\n",
        "\n",
        "X_train, X_test, y_train, y_test = train_test_split(X, y)\n"
      ],
      "metadata": {
        "id": "YgPZapJ5HsGB"
      },
      "execution_count": null,
      "outputs": []
    },
    {
      "cell_type": "code",
      "source": [
        "clf = Pipeline([(\"scaler\", StandardScaler()),(\"knn\", KNeighborsClassifier(n_neighbors=5))])"
      ],
      "metadata": {
        "id": "1UA8SFxRHymr"
      },
      "execution_count": null,
      "outputs": []
    },
    {
      "cell_type": "code",
      "source": [
        "clf.fit(X_train, y_train)\n"
      ],
      "metadata": {
        "id": "cSngTSo1JRwP",
        "colab": {
          "base_uri": "https://localhost:8080/"
        },
        "outputId": "54cd036f-40e6-48bb-ad7f-50cf942f33f0"
      },
      "execution_count": null,
      "outputs": [
        {
          "output_type": "execute_result",
          "data": {
            "text/plain": [
              "Pipeline(steps=[('scaler', StandardScaler()), ('knn', KNeighborsClassifier())])"
            ]
          },
          "metadata": {},
          "execution_count": 6
        }
      ]
    },
    {
      "cell_type": "code",
      "source": [
        "print(clf.score(X_test, y_test))"
      ],
      "metadata": {
        "colab": {
          "base_uri": "https://localhost:8080/"
        },
        "id": "fy8SvqehMjxP",
        "outputId": "91ad81eb-ee19-4d60-b676-c7c61da61303"
      },
      "execution_count": null,
      "outputs": [
        {
          "output_type": "stream",
          "name": "stdout",
          "text": [
            "0.9473684210526315\n"
          ]
        }
      ]
    },
    {
      "cell_type": "markdown",
      "source": [
        "\n",
        "\n",
        "---\n",
        "\n"
      ],
      "metadata": {
        "id": "gARZ1l_aR5_8"
      }
    },
    {
      "cell_type": "markdown",
      "source": [
        "###Pickling"
      ],
      "metadata": {
        "id": "qv9MifclR69l"
      }
    },
    {
      "cell_type": "markdown",
      "source": [
        "O “Pickling” é o processo pelo qual uma hierarquia de objetos Python é convertida em um fluxo de bytes, e “unpickling” é a operação inversa, onde um fluxo de byte é convertido de volta em uma hierarquia de objetos."
      ],
      "metadata": {
        "id": "bnybwrQEUPLR"
      }
    },
    {
      "cell_type": "code",
      "source": [
        "import pickle\n",
        "\n",
        "pkl = pickle.dumps(clf)\n",
        "clf2 = pickle.loads(pkl) \n",
        "\n",
        "clf2.predict(X_test)\n"
      ],
      "metadata": {
        "colab": {
          "base_uri": "https://localhost:8080/"
        },
        "id": "vmhV4J0DSH-7",
        "outputId": "2b385406-9f0c-44fc-e6c3-3c05e949e0b0"
      },
      "execution_count": null,
      "outputs": [
        {
          "output_type": "execute_result",
          "data": {
            "text/plain": [
              "array([2, 1, 0, 1, 1, 1, 1, 1, 0, 2, 0, 1, 0, 0, 0, 2, 0, 2, 1, 0, 2, 2,\n",
              "       0, 1, 1, 2, 1, 2, 2, 0, 1, 0, 0, 0, 1, 1, 0, 2])"
            ]
          },
          "metadata": {},
          "execution_count": 9
        }
      ]
    },
    {
      "cell_type": "markdown",
      "source": [
        "###Salvando em arquivo"
      ],
      "metadata": {
        "id": "_i6Zmp9QTeoC"
      }
    },
    {
      "cell_type": "code",
      "source": [
        "from joblib import dump, load\n",
        "\n",
        "dump(clf, 'modelo.joblib') "
      ],
      "metadata": {
        "colab": {
          "base_uri": "https://localhost:8080/"
        },
        "id": "mRQf6ZG2TMhe",
        "outputId": "15523169-739b-47a0-e816-491be1789cf0"
      },
      "execution_count": null,
      "outputs": [
        {
          "output_type": "execute_result",
          "data": {
            "text/plain": [
              "['modelo.joblib']"
            ]
          },
          "metadata": {},
          "execution_count": 10
        }
      ]
    },
    {
      "cell_type": "code",
      "source": [
        "clf3 = load('modelo.joblib') \n",
        "clf3.predict(X_test)"
      ],
      "metadata": {
        "colab": {
          "base_uri": "https://localhost:8080/"
        },
        "id": "37K_L8ndTQuC",
        "outputId": "d2ba3d19-bf40-484f-ed6e-06bace068783"
      },
      "execution_count": null,
      "outputs": [
        {
          "output_type": "execute_result",
          "data": {
            "text/plain": [
              "array([2, 1, 0, 1, 1, 1, 1, 1, 0, 2, 0, 1, 0, 0, 0, 2, 0, 2, 1, 0, 2, 2,\n",
              "       0, 1, 1, 2, 1, 2, 2, 0, 1, 0, 0, 0, 1, 1, 0, 2])"
            ]
          },
          "metadata": {},
          "execution_count": 12
        }
      ]
    }
  ]
}