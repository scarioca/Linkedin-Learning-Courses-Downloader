{
  "nbformat": 4,
  "nbformat_minor": 0,
  "metadata": {
    "colab": {
      "provenance": [],
      "include_colab_link": true
    },
    "kernelspec": {
      "name": "python3",
      "display_name": "Python 3"
    },
    "language_info": {
      "name": "python"
    }
  },
  "cells": [
    {
      "cell_type": "markdown",
      "metadata": {
        "id": "view-in-github",
        "colab_type": "text"
      },
      "source": [
        "<a href=\"https://colab.research.google.com/github/scarioca/Linkedin-Learning-Courses-Downloader/blob/main/Machine_Learning_AULA_3_3.ipynb\" target=\"_parent\"><img src=\"https://colab.research.google.com/assets/colab-badge.svg\" alt=\"Open In Colab\"/></a>"
      ]
    },
    {
      "cell_type": "markdown",
      "source": [
        "###Avaliação de Desempenho"
      ],
      "metadata": {
        "id": "hTjhTVFob0XB"
      }
    },
    {
      "cell_type": "markdown",
      "source": [
        "Conjunto de Dados - Dataset COVID, FLU, COLD Symptoms - [Download](https://drive.google.com/file/d/15_WvzvIN5bjyxMttJxCt48hFPjfz2Ts_/view?usp=sharing)"
      ],
      "metadata": {
        "id": "LcwAMGTIcZKe"
      }
    },
    {
      "cell_type": "code",
      "source": [
        "from sklearn.model_selection import train_test_split\n",
        "from sklearn.ensemble import VotingClassifier\n",
        "from sklearn.neighbors import KNeighborsClassifier\n",
        "from sklearn.naive_bayes import GaussianNB\n",
        "from sklearn.tree import DecisionTreeClassifier \n",
        "\n",
        "from sklearn.metrics import classification_report\n",
        "import pandas as pd\n",
        "\n",
        "import imblearn\n",
        "from imblearn.under_sampling import RandomUnderSampler"
      ],
      "metadata": {
        "id": "Zp3b6nZ4dEob"
      },
      "execution_count": null,
      "outputs": []
    },
    {
      "cell_type": "code",
      "source": [
        "df = pd.read_csv('/content/covid.csv')"
      ],
      "metadata": {
        "id": "1aNCLSkHcX7U"
      },
      "execution_count": null,
      "outputs": []
    },
    {
      "cell_type": "code",
      "execution_count": null,
      "metadata": {
        "id": "Iq5ks4z_bymM",
        "colab": {
          "base_uri": "https://localhost:8080/"
        },
        "outputId": "b057f3da-4b80-4417-a864-f4af76aafd5b"
      },
      "outputs": [
        {
          "output_type": "stream",
          "name": "stdout",
          "text": [
            "<class 'pandas.core.frame.DataFrame'>\n",
            "RangeIndex: 44453 entries, 0 to 44452\n",
            "Data columns (total 21 columns):\n",
            " #   Column                Non-Null Count  Dtype \n",
            "---  ------                --------------  ----- \n",
            " 0   COUGH                 44453 non-null  int64 \n",
            " 1   MUSCLE_ACHES          44453 non-null  int64 \n",
            " 2   TIREDNESS             44453 non-null  int64 \n",
            " 3   SORE_THROAT           44453 non-null  int64 \n",
            " 4   RUNNY_NOSE            44453 non-null  int64 \n",
            " 5   STUFFY_NOSE           44453 non-null  int64 \n",
            " 6   FEVER                 44453 non-null  int64 \n",
            " 7   NAUSEA                44453 non-null  int64 \n",
            " 8   VOMITING              44453 non-null  int64 \n",
            " 9   DIARRHEA              44453 non-null  int64 \n",
            " 10  SHORTNESS_OF_BREATH   44453 non-null  int64 \n",
            " 11  DIFFICULTY_BREATHING  44453 non-null  int64 \n",
            " 12  LOSS_OF_TASTE         44453 non-null  int64 \n",
            " 13  LOSS_OF_SMELL         44453 non-null  int64 \n",
            " 14  ITCHY_NOSE            44453 non-null  int64 \n",
            " 15  ITCHY_EYES            44453 non-null  int64 \n",
            " 16  ITCHY_MOUTH           44453 non-null  int64 \n",
            " 17  ITCHY_INNER_EAR       44453 non-null  int64 \n",
            " 18  SNEEZING              44453 non-null  int64 \n",
            " 19  PINK_EYE              44453 non-null  int64 \n",
            " 20  TYPE                  44453 non-null  object\n",
            "dtypes: int64(20), object(1)\n",
            "memory usage: 7.1+ MB\n"
          ]
        }
      ],
      "source": [
        "df.info()"
      ]
    },
    {
      "cell_type": "code",
      "source": [
        "df.columns"
      ],
      "metadata": {
        "id": "VU1K9zihdQjT",
        "colab": {
          "base_uri": "https://localhost:8080/"
        },
        "outputId": "90a57876-41fd-49f0-b94a-c0d7a076cf31"
      },
      "execution_count": null,
      "outputs": [
        {
          "output_type": "execute_result",
          "data": {
            "text/plain": [
              "Index(['COUGH', 'MUSCLE_ACHES', 'TIREDNESS', 'SORE_THROAT', 'RUNNY_NOSE',\n",
              "       'STUFFY_NOSE', 'FEVER', 'NAUSEA', 'VOMITING', 'DIARRHEA',\n",
              "       'SHORTNESS_OF_BREATH', 'DIFFICULTY_BREATHING', 'LOSS_OF_TASTE',\n",
              "       'LOSS_OF_SMELL', 'ITCHY_NOSE', 'ITCHY_EYES', 'ITCHY_MOUTH',\n",
              "       'ITCHY_INNER_EAR', 'SNEEZING', 'PINK_EYE', 'TYPE'],\n",
              "      dtype='object')"
            ]
          },
          "metadata": {},
          "execution_count": 4
        }
      ]
    },
    {
      "cell_type": "code",
      "source": [
        "df.head()"
      ],
      "metadata": {
        "id": "f4KKI99GdUDn",
        "colab": {
          "base_uri": "https://localhost:8080/",
          "height": 300
        },
        "outputId": "094247e3-5259-48b4-e83e-e602bd8ee64b"
      },
      "execution_count": null,
      "outputs": [
        {
          "output_type": "execute_result",
          "data": {
            "text/plain": [
              "   COUGH  MUSCLE_ACHES  TIREDNESS  SORE_THROAT  RUNNY_NOSE  STUFFY_NOSE  \\\n",
              "0      0             0          1            0           1            0   \n",
              "1      0             0          1            0           0            0   \n",
              "2      0             1          1            1           0            0   \n",
              "3      0             0          0            1           1            0   \n",
              "4      0             0          1            0           1            0   \n",
              "\n",
              "   FEVER  NAUSEA  VOMITING  DIARRHEA  ...  DIFFICULTY_BREATHING  \\\n",
              "0      0       0         0         0  ...                     0   \n",
              "1      0       0         0         0  ...                     0   \n",
              "2      0       0         0         0  ...                     0   \n",
              "3      0       0         0         0  ...                     0   \n",
              "4      0       0         0         0  ...                     0   \n",
              "\n",
              "   LOSS_OF_TASTE  LOSS_OF_SMELL  ITCHY_NOSE  ITCHY_EYES  ITCHY_MOUTH  \\\n",
              "0              1              0           1           0            0   \n",
              "1              1              0           1           0            1   \n",
              "2              1              0           1           0            0   \n",
              "3              1              1           0           0            1   \n",
              "4              1              1           0           1            0   \n",
              "\n",
              "   ITCHY_INNER_EAR  SNEEZING  PINK_EYE     TYPE  \n",
              "0                1         0         1  ALLERGY  \n",
              "1                1         1         1  ALLERGY  \n",
              "2                0         0         1  ALLERGY  \n",
              "3                0         1         1  ALLERGY  \n",
              "4                1         1         1  ALLERGY  \n",
              "\n",
              "[5 rows x 21 columns]"
            ],
            "text/html": [
              "\n",
              "  <div id=\"df-5e06f2ef-3353-4afc-a480-7e1a6f452422\">\n",
              "    <div class=\"colab-df-container\">\n",
              "      <div>\n",
              "<style scoped>\n",
              "    .dataframe tbody tr th:only-of-type {\n",
              "        vertical-align: middle;\n",
              "    }\n",
              "\n",
              "    .dataframe tbody tr th {\n",
              "        vertical-align: top;\n",
              "    }\n",
              "\n",
              "    .dataframe thead th {\n",
              "        text-align: right;\n",
              "    }\n",
              "</style>\n",
              "<table border=\"1\" class=\"dataframe\">\n",
              "  <thead>\n",
              "    <tr style=\"text-align: right;\">\n",
              "      <th></th>\n",
              "      <th>COUGH</th>\n",
              "      <th>MUSCLE_ACHES</th>\n",
              "      <th>TIREDNESS</th>\n",
              "      <th>SORE_THROAT</th>\n",
              "      <th>RUNNY_NOSE</th>\n",
              "      <th>STUFFY_NOSE</th>\n",
              "      <th>FEVER</th>\n",
              "      <th>NAUSEA</th>\n",
              "      <th>VOMITING</th>\n",
              "      <th>DIARRHEA</th>\n",
              "      <th>...</th>\n",
              "      <th>DIFFICULTY_BREATHING</th>\n",
              "      <th>LOSS_OF_TASTE</th>\n",
              "      <th>LOSS_OF_SMELL</th>\n",
              "      <th>ITCHY_NOSE</th>\n",
              "      <th>ITCHY_EYES</th>\n",
              "      <th>ITCHY_MOUTH</th>\n",
              "      <th>ITCHY_INNER_EAR</th>\n",
              "      <th>SNEEZING</th>\n",
              "      <th>PINK_EYE</th>\n",
              "      <th>TYPE</th>\n",
              "    </tr>\n",
              "  </thead>\n",
              "  <tbody>\n",
              "    <tr>\n",
              "      <th>0</th>\n",
              "      <td>0</td>\n",
              "      <td>0</td>\n",
              "      <td>1</td>\n",
              "      <td>0</td>\n",
              "      <td>1</td>\n",
              "      <td>0</td>\n",
              "      <td>0</td>\n",
              "      <td>0</td>\n",
              "      <td>0</td>\n",
              "      <td>0</td>\n",
              "      <td>...</td>\n",
              "      <td>0</td>\n",
              "      <td>1</td>\n",
              "      <td>0</td>\n",
              "      <td>1</td>\n",
              "      <td>0</td>\n",
              "      <td>0</td>\n",
              "      <td>1</td>\n",
              "      <td>0</td>\n",
              "      <td>1</td>\n",
              "      <td>ALLERGY</td>\n",
              "    </tr>\n",
              "    <tr>\n",
              "      <th>1</th>\n",
              "      <td>0</td>\n",
              "      <td>0</td>\n",
              "      <td>1</td>\n",
              "      <td>0</td>\n",
              "      <td>0</td>\n",
              "      <td>0</td>\n",
              "      <td>0</td>\n",
              "      <td>0</td>\n",
              "      <td>0</td>\n",
              "      <td>0</td>\n",
              "      <td>...</td>\n",
              "      <td>0</td>\n",
              "      <td>1</td>\n",
              "      <td>0</td>\n",
              "      <td>1</td>\n",
              "      <td>0</td>\n",
              "      <td>1</td>\n",
              "      <td>1</td>\n",
              "      <td>1</td>\n",
              "      <td>1</td>\n",
              "      <td>ALLERGY</td>\n",
              "    </tr>\n",
              "    <tr>\n",
              "      <th>2</th>\n",
              "      <td>0</td>\n",
              "      <td>1</td>\n",
              "      <td>1</td>\n",
              "      <td>1</td>\n",
              "      <td>0</td>\n",
              "      <td>0</td>\n",
              "      <td>0</td>\n",
              "      <td>0</td>\n",
              "      <td>0</td>\n",
              "      <td>0</td>\n",
              "      <td>...</td>\n",
              "      <td>0</td>\n",
              "      <td>1</td>\n",
              "      <td>0</td>\n",
              "      <td>1</td>\n",
              "      <td>0</td>\n",
              "      <td>0</td>\n",
              "      <td>0</td>\n",
              "      <td>0</td>\n",
              "      <td>1</td>\n",
              "      <td>ALLERGY</td>\n",
              "    </tr>\n",
              "    <tr>\n",
              "      <th>3</th>\n",
              "      <td>0</td>\n",
              "      <td>0</td>\n",
              "      <td>0</td>\n",
              "      <td>1</td>\n",
              "      <td>1</td>\n",
              "      <td>0</td>\n",
              "      <td>0</td>\n",
              "      <td>0</td>\n",
              "      <td>0</td>\n",
              "      <td>0</td>\n",
              "      <td>...</td>\n",
              "      <td>0</td>\n",
              "      <td>1</td>\n",
              "      <td>1</td>\n",
              "      <td>0</td>\n",
              "      <td>0</td>\n",
              "      <td>1</td>\n",
              "      <td>0</td>\n",
              "      <td>1</td>\n",
              "      <td>1</td>\n",
              "      <td>ALLERGY</td>\n",
              "    </tr>\n",
              "    <tr>\n",
              "      <th>4</th>\n",
              "      <td>0</td>\n",
              "      <td>0</td>\n",
              "      <td>1</td>\n",
              "      <td>0</td>\n",
              "      <td>1</td>\n",
              "      <td>0</td>\n",
              "      <td>0</td>\n",
              "      <td>0</td>\n",
              "      <td>0</td>\n",
              "      <td>0</td>\n",
              "      <td>...</td>\n",
              "      <td>0</td>\n",
              "      <td>1</td>\n",
              "      <td>1</td>\n",
              "      <td>0</td>\n",
              "      <td>1</td>\n",
              "      <td>0</td>\n",
              "      <td>1</td>\n",
              "      <td>1</td>\n",
              "      <td>1</td>\n",
              "      <td>ALLERGY</td>\n",
              "    </tr>\n",
              "  </tbody>\n",
              "</table>\n",
              "<p>5 rows × 21 columns</p>\n",
              "</div>\n",
              "      <button class=\"colab-df-convert\" onclick=\"convertToInteractive('df-5e06f2ef-3353-4afc-a480-7e1a6f452422')\"\n",
              "              title=\"Convert this dataframe to an interactive table.\"\n",
              "              style=\"display:none;\">\n",
              "        \n",
              "  <svg xmlns=\"http://www.w3.org/2000/svg\" height=\"24px\"viewBox=\"0 0 24 24\"\n",
              "       width=\"24px\">\n",
              "    <path d=\"M0 0h24v24H0V0z\" fill=\"none\"/>\n",
              "    <path d=\"M18.56 5.44l.94 2.06.94-2.06 2.06-.94-2.06-.94-.94-2.06-.94 2.06-2.06.94zm-11 1L8.5 8.5l.94-2.06 2.06-.94-2.06-.94L8.5 2.5l-.94 2.06-2.06.94zm10 10l.94 2.06.94-2.06 2.06-.94-2.06-.94-.94-2.06-.94 2.06-2.06.94z\"/><path d=\"M17.41 7.96l-1.37-1.37c-.4-.4-.92-.59-1.43-.59-.52 0-1.04.2-1.43.59L10.3 9.45l-7.72 7.72c-.78.78-.78 2.05 0 2.83L4 21.41c.39.39.9.59 1.41.59.51 0 1.02-.2 1.41-.59l7.78-7.78 2.81-2.81c.8-.78.8-2.07 0-2.86zM5.41 20L4 18.59l7.72-7.72 1.47 1.35L5.41 20z\"/>\n",
              "  </svg>\n",
              "      </button>\n",
              "      \n",
              "  <style>\n",
              "    .colab-df-container {\n",
              "      display:flex;\n",
              "      flex-wrap:wrap;\n",
              "      gap: 12px;\n",
              "    }\n",
              "\n",
              "    .colab-df-convert {\n",
              "      background-color: #E8F0FE;\n",
              "      border: none;\n",
              "      border-radius: 50%;\n",
              "      cursor: pointer;\n",
              "      display: none;\n",
              "      fill: #1967D2;\n",
              "      height: 32px;\n",
              "      padding: 0 0 0 0;\n",
              "      width: 32px;\n",
              "    }\n",
              "\n",
              "    .colab-df-convert:hover {\n",
              "      background-color: #E2EBFA;\n",
              "      box-shadow: 0px 1px 2px rgba(60, 64, 67, 0.3), 0px 1px 3px 1px rgba(60, 64, 67, 0.15);\n",
              "      fill: #174EA6;\n",
              "    }\n",
              "\n",
              "    [theme=dark] .colab-df-convert {\n",
              "      background-color: #3B4455;\n",
              "      fill: #D2E3FC;\n",
              "    }\n",
              "\n",
              "    [theme=dark] .colab-df-convert:hover {\n",
              "      background-color: #434B5C;\n",
              "      box-shadow: 0px 1px 3px 1px rgba(0, 0, 0, 0.15);\n",
              "      filter: drop-shadow(0px 1px 2px rgba(0, 0, 0, 0.3));\n",
              "      fill: #FFFFFF;\n",
              "    }\n",
              "  </style>\n",
              "\n",
              "      <script>\n",
              "        const buttonEl =\n",
              "          document.querySelector('#df-5e06f2ef-3353-4afc-a480-7e1a6f452422 button.colab-df-convert');\n",
              "        buttonEl.style.display =\n",
              "          google.colab.kernel.accessAllowed ? 'block' : 'none';\n",
              "\n",
              "        async function convertToInteractive(key) {\n",
              "          const element = document.querySelector('#df-5e06f2ef-3353-4afc-a480-7e1a6f452422');\n",
              "          const dataTable =\n",
              "            await google.colab.kernel.invokeFunction('convertToInteractive',\n",
              "                                                     [key], {});\n",
              "          if (!dataTable) return;\n",
              "\n",
              "          const docLinkHtml = 'Like what you see? Visit the ' +\n",
              "            '<a target=\"_blank\" href=https://colab.research.google.com/notebooks/data_table.ipynb>data table notebook</a>'\n",
              "            + ' to learn more about interactive tables.';\n",
              "          element.innerHTML = '';\n",
              "          dataTable['output_type'] = 'display_data';\n",
              "          await google.colab.output.renderOutput(dataTable, element);\n",
              "          const docLink = document.createElement('div');\n",
              "          docLink.innerHTML = docLinkHtml;\n",
              "          element.appendChild(docLink);\n",
              "        }\n",
              "      </script>\n",
              "    </div>\n",
              "  </div>\n",
              "  "
            ]
          },
          "metadata": {},
          "execution_count": 5
        }
      ]
    },
    {
      "cell_type": "code",
      "source": [
        "#Verificando o desbalanceamento\n",
        "\n",
        "features = df.TYPE.value_counts() #Type = gripe, alergia, covid e resfriado \n",
        "print(features)\n",
        "features.plot(kind='bar', title='Count (features)');"
      ],
      "metadata": {
        "colab": {
          "base_uri": "https://localhost:8080/",
          "height": 405
        },
        "id": "gidsv419dYtW",
        "outputId": "122f04f4-e4d0-4e9b-957f-91e8b3b30b30"
      },
      "execution_count": null,
      "outputs": [
        {
          "output_type": "stream",
          "name": "stdout",
          "text": [
            "FLU        25000\n",
            "ALLERGY    16381\n",
            "COVID       2048\n",
            "COLD        1024\n",
            "Name: TYPE, dtype: int64\n"
          ]
        },
        {
          "output_type": "display_data",
          "data": {
            "text/plain": [
              "<Figure size 432x288 with 1 Axes>"
            ],
            "image/png": "[encoded data removed]"
          },
          "metadata": {
            "needs_background": "light"
          }
        }
      ]
    },
    {
      "cell_type": "code",
      "source": [
        "# dataset - divisão em conjunto de treino e teste \n",
        "X = df.drop('TYPE', axis=1)\n",
        "y = df.TYPE\n",
        "\n",
        "X_train, X_test, y_train, y_test = train_test_split(X, y, random_state=0, test_size = 0.2)"
      ],
      "metadata": {
        "id": "guvS7ynHd0t3"
      },
      "execution_count": null,
      "outputs": []
    },
    {
      "cell_type": "code",
      "source": [
        "#Desbalanceamento \n",
        "print(y_train.value_counts())"
      ],
      "metadata": {
        "id": "hWrRRcLdfnIy",
        "colab": {
          "base_uri": "https://localhost:8080/"
        },
        "outputId": "29153ed4-f69c-413a-9ae8-059a55d15f00"
      },
      "execution_count": null,
      "outputs": [
        {
          "output_type": "stream",
          "name": "stdout",
          "text": [
            "FLU        20016\n",
            "ALLERGY    13068\n",
            "COVID       1652\n",
            "COLD         826\n",
            "Name: TYPE, dtype: int64\n"
          ]
        }
      ]
    },
    {
      "cell_type": "code",
      "source": [
        "# Modelo - Combinação de classificadores (VotingClassifier)\n",
        "\n",
        "model1 = GaussianNB()\n",
        "model2 = DecisionTreeClassifier()\n",
        "model3 = KNeighborsClassifier(n_neighbors = 5)\n",
        "\n",
        "modelo_ensemble = VotingClassifier(estimators=[('nb', model1),('dt', model2),('knn', model3)]) \n",
        "\n",
        "modelo_ensemble.fit(X_train, y_train)"
      ],
      "metadata": {
        "id": "Aasn-pDdd8FA",
        "colab": {
          "base_uri": "https://localhost:8080/"
        },
        "outputId": "2f163e99-294d-41a5-f250-bda9b4346066"
      },
      "execution_count": null,
      "outputs": [
        {
          "output_type": "execute_result",
          "data": {
            "text/plain": [
              "VotingClassifier(estimators=[('nb', GaussianNB()),\n",
              "                             ('dt', DecisionTreeClassifier()),\n",
              "                             ('knn', KNeighborsClassifier())])"
            ]
          },
          "metadata": {},
          "execution_count": 9
        }
      ]
    },
    {
      "cell_type": "code",
      "source": [
        "# Verificando o desempenho do modelo\n",
        "\n",
        "modelo_ensemble.score(X_test, y_test)"
      ],
      "metadata": {
        "colab": {
          "base_uri": "https://localhost:8080/"
        },
        "id": "GKHu-M_rgBSV",
        "outputId": "eef94292-143f-4c3f-e9eb-85db427bb17b"
      },
      "execution_count": null,
      "outputs": [
        {
          "output_type": "execute_result",
          "data": {
            "text/plain": [
              "0.8960746822629625"
            ]
          },
          "metadata": {},
          "execution_count": 10
        }
      ]
    },
    {
      "cell_type": "markdown",
      "source": [
        "TESTE 1: Treinando o modelo utilizando o conjunto de treino com as classes desbalanceadas"
      ],
      "metadata": {
        "id": "Rn0KJZG2jzoI"
      }
    },
    {
      "cell_type": "markdown",
      "source": [
        "Classification Report\n",
        "\n",
        "[Ver Matriz de Confusão](https://pt.wikipedia.org/wiki/Matriz_de_confus%C3%A3o)"
      ],
      "metadata": {
        "id": "WmTLTlvLggfr"
      }
    },
    {
      "cell_type": "markdown",
      "source": [
        "* Acurácia - performance geral do modelo. Dentre todas as classificações, quantas o modelo classificou corretamente\n",
        "* Precisão - dentre todas as classificações de classe Positivo que o modelo fez, quantas estão corretas\n",
        "* Recall - Revocação - dentre todas as situações de classe Positivo como valor esperado, quantas estão corretas\n",
        "* F1-Score: média harmônica entre precisão e recall"
      ],
      "metadata": {
        "id": "P7xmiFAy6Vwo"
      }
    },
    {
      "cell_type": "code",
      "source": [
        "#Precisão (precision) \n",
        "#Dentre todas as classificações Verdadeiros Positivos que o modelo fez, quantas estão corretas.\n",
        "\n",
        "y_pred = modelo_ensemble.predict(X_test)\n",
        "\n",
        "print(classification_report(y_test, y_pred)) #report\n"
      ],
      "metadata": {
        "colab": {
          "base_uri": "https://localhost:8080/"
        },
        "id": "Kbr6UiE9eZU1",
        "outputId": "b4eeadec-4d4a-4a0f-f9c2-e2b1a7851bbb"
      },
      "execution_count": null,
      "outputs": [
        {
          "output_type": "stream",
          "name": "stdout",
          "text": [
            "              precision    recall  f1-score   support\n",
            "\n",
            "     ALLERGY       0.97      0.97      0.97      3313\n",
            "        COLD       0.36      0.43      0.40       198\n",
            "       COVID       0.26      0.34      0.30       396\n",
            "         FLU       0.94      0.91      0.93      4984\n",
            "\n",
            "    accuracy                           0.90      8891\n",
            "   macro avg       0.63      0.66      0.65      8891\n",
            "weighted avg       0.91      0.90      0.90      8891\n",
            "\n"
          ]
        }
      ]
    },
    {
      "cell_type": "markdown",
      "source": [
        "TESTE 2: Treinando o modelo e aplicando a abordagem Sampling para lidar com as classes desabalanceadas"
      ],
      "metadata": {
        "id": "uBre-_HJjpxQ"
      }
    },
    {
      "cell_type": "code",
      "source": [
        "# técnica under-sampling\n",
        "\n",
        "rus = RandomUnderSampler()\n",
        "X_res, y_res = rus.fit_resample(X_train, y_train)"
      ],
      "metadata": {
        "id": "R6FhVR4VjLle"
      },
      "execution_count": null,
      "outputs": []
    },
    {
      "cell_type": "code",
      "source": [
        "print(y_train.value_counts(), '\\n') #divisão conjunto de dados desbalanceado\n",
        "\n",
        "print(y_res.value_counts()) #divisão conjunto de dados após undersample"
      ],
      "metadata": {
        "id": "EOzD2Tf6kDPR",
        "colab": {
          "base_uri": "https://localhost:8080/"
        },
        "outputId": "2d07c687-b459-44c4-a832-4fc2afb0a51f"
      },
      "execution_count": null,
      "outputs": [
        {
          "output_type": "stream",
          "name": "stdout",
          "text": [
            "FLU        20016\n",
            "ALLERGY    13068\n",
            "COVID       1652\n",
            "COLD         826\n",
            "Name: TYPE, dtype: int64 \n",
            "\n",
            "ALLERGY    826\n",
            "COLD       826\n",
            "COVID      826\n",
            "FLU        826\n",
            "Name: TYPE, dtype: int64\n"
          ]
        }
      ]
    },
    {
      "cell_type": "code",
      "source": [
        "y_test.value_counts() #total de amostras no conjunto de treinamento"
      ],
      "metadata": {
        "colab": {
          "base_uri": "https://localhost:8080/"
        },
        "id": "y6Yms4GKa_Ol",
        "outputId": "c9e3be54-623f-49f2-dba9-28aa98cf841d"
      },
      "execution_count": null,
      "outputs": [
        {
          "output_type": "execute_result",
          "data": {
            "text/plain": [
              "FLU        4984\n",
              "ALLERGY    3313\n",
              "COVID       396\n",
              "COLD        198\n",
              "Name: TYPE, dtype: int64"
            ]
          },
          "metadata": {},
          "execution_count": 14
        }
      ]
    },
    {
      "cell_type": "code",
      "source": [
        "modelo_ensemble.fit(X_res, y_res) # o modelo treinado com um número pequeno de amostras por classes\n",
        "\n",
        "y_pred = modelo_ensemble.predict(X_test) # testando as predições do modelo\n",
        "\n",
        "print(classification_report(y_test, y_pred)) "
      ],
      "metadata": {
        "id": "e7IjDvH9jWao",
        "colab": {
          "base_uri": "https://localhost:8080/"
        },
        "outputId": "3dfd3182-6b38-41df-eac8-36e4aaec3355"
      },
      "execution_count": null,
      "outputs": [
        {
          "output_type": "stream",
          "name": "stdout",
          "text": [
            "              precision    recall  f1-score   support\n",
            "\n",
            "     ALLERGY       1.00      0.96      0.98      3313\n",
            "        COLD       0.48      0.95      0.64       198\n",
            "       COVID       0.49      0.98      0.66       396\n",
            "         FLU       1.00      0.90      0.95      4984\n",
            "\n",
            "    accuracy                           0.93      8891\n",
            "   macro avg       0.74      0.95      0.81      8891\n",
            "weighted avg       0.97      0.93      0.94      8891\n",
            "\n"
          ]
        }
      ]
    }
  ]
}